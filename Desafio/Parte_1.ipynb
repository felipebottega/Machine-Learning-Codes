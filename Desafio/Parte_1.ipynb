{
 "cells": [
  {
   "cell_type": "markdown",
   "metadata": {},
   "source": [
    "# 1. Carregar os datasets\n",
    "\n",
    "Começamos fazendo os imports necessários e carregando os datasets que iremos usar."
   ]
  },
  {
   "cell_type": "code",
   "execution_count": 1,
   "metadata": {},
   "outputs": [],
   "source": [
    "import json\n",
    "import pandas as pd\n",
    "import numpy as np\n",
    "import datetime\n",
    "import matplotlib.pyplot as plt\n",
    "import seaborn as sns\n",
    "from sklearn.neighbors import KernelDensity"
   ]
  },
  {
   "cell_type": "code",
   "execution_count": 2,
   "metadata": {},
   "outputs": [],
   "source": [
    "# Abrimos o arquivo json.\n",
    "with open(\"datasets/BASE A/premium_students.json\", \"r\") as read_file:\n",
    "    data = json.load(read_file)"
   ]
  },
  {
   "cell_type": "code",
   "execution_count": 3,
   "metadata": {},
   "outputs": [],
   "source": [
    "# Inicializamos o dataframe.\n",
    "m = len(data)\n",
    "id_list = [list(data[i].values())[0] for i in range(m)]\n",
    "index = pd.Index(id_list, name='StudentId')\n",
    "df = pd.DataFrame(np.zeros((m, 2)), columns=['RegisteredDate', 'SubscriptionDate'], index=index)"
   ]
  },
  {
   "cell_type": "markdown",
   "metadata": {},
   "source": [
    "O dataframe **df** irá receber as datas de quando occorreram os registros e inscrições de plano premium. Para isso, iremos colocar as datas no formato datetime. "
   ]
  },
  {
   "cell_type": "code",
   "execution_count": 4,
   "metadata": {},
   "outputs": [
    {
     "data": {
      "text/html": [
       "<div>\n",
       "<style scoped>\n",
       "    .dataframe tbody tr th:only-of-type {\n",
       "        vertical-align: middle;\n",
       "    }\n",
       "\n",
       "    .dataframe tbody tr th {\n",
       "        vertical-align: top;\n",
       "    }\n",
       "\n",
       "    .dataframe thead th {\n",
       "        text-align: right;\n",
       "    }\n",
       "</style>\n",
       "<table border=\"1\" class=\"dataframe\">\n",
       "  <thead>\n",
       "    <tr style=\"text-align: right;\">\n",
       "      <th></th>\n",
       "      <th>RegisteredDate</th>\n",
       "      <th>SubscriptionDate</th>\n",
       "    </tr>\n",
       "    <tr>\n",
       "      <th>StudentId</th>\n",
       "      <th></th>\n",
       "      <th></th>\n",
       "    </tr>\n",
       "  </thead>\n",
       "  <tbody>\n",
       "    <tr>\n",
       "      <th>98723802</th>\n",
       "      <td>2017-11-01</td>\n",
       "      <td>2017-11-01</td>\n",
       "    </tr>\n",
       "    <tr>\n",
       "      <th>86905029</th>\n",
       "      <td>2017-11-01</td>\n",
       "      <td>2017-11-17</td>\n",
       "    </tr>\n",
       "    <tr>\n",
       "      <th>40935842</th>\n",
       "      <td>2017-11-01</td>\n",
       "      <td>2017-11-01</td>\n",
       "    </tr>\n",
       "    <tr>\n",
       "      <th>83184096</th>\n",
       "      <td>2017-11-01</td>\n",
       "      <td>2018-05-18</td>\n",
       "    </tr>\n",
       "    <tr>\n",
       "      <th>12771137</th>\n",
       "      <td>2017-11-01</td>\n",
       "      <td>2017-11-01</td>\n",
       "    </tr>\n",
       "  </tbody>\n",
       "</table>\n",
       "</div>"
      ],
      "text/plain": [
       "          RegisteredDate SubscriptionDate\n",
       "StudentId                                \n",
       "98723802      2017-11-01       2017-11-01\n",
       "86905029      2017-11-01       2017-11-17\n",
       "40935842      2017-11-01       2017-11-01\n",
       "83184096      2017-11-01       2018-05-18\n",
       "12771137      2017-11-01       2017-11-01"
      ]
     },
     "execution_count": 4,
     "metadata": {},
     "output_type": "execute_result"
    }
   ],
   "source": [
    "# Arrumamos o formato das datas para timestamp.\n",
    "for i in range(m):\n",
    "    date = datetime.datetime.strptime(data[i]['RegisteredDate'], '%Y-%m-%d %H:%M:%S.%f')\n",
    "    date = datetime.datetime.strptime(str(date.year) + '-' + str(date.month) + '-' + str(date.day), '%Y-%m-%d')\n",
    "    data[i]['RegisteredDate'] = date\n",
    "    \n",
    "    date = datetime.datetime.strptime(data[i]['SubscriptionDate'], '%Y-%m-%d %H:%M:%S.%f')\n",
    "    date = datetime.datetime.strptime(str(date.year) + '-' + str(date.month) + '-' + str(date.day), '%Y-%m-%d')\n",
    "    data[i]['SubscriptionDate'] = date\n",
    "\n",
    "# Atualizamos as colunas do dataframe.\n",
    "df['RegisteredDate'] = [data[i]['RegisteredDate'] for i in range(m)]\n",
    "df['SubscriptionDate'] = [data[i]['SubscriptionDate'] for i in range(m)]\n",
    "    \n",
    "df.head()"
   ]
  },
  {
   "cell_type": "markdown",
   "metadata": {},
   "source": [
    "Antes de proceder para as análises de fato, é prudente verificar se não há dados omissos ou duplicatas. "
   ]
  },
  {
   "cell_type": "code",
   "execution_count": 5,
   "metadata": {},
   "outputs": [
    {
     "name": "stdout",
     "output_type": "stream",
     "text": [
      "RegisteredDate      0\n",
      "SubscriptionDate    0\n",
      "dtype: int64 \n",
      "\n",
      "True\n"
     ]
    }
   ],
   "source": [
    "# Podemos ver que não há nenhum NaN nos dados. De fato isto é esperado, caso houvesse iríamos obter um erro na hora de\n",
    "# converter para datetime acima.\n",
    "print(np.sum(df.isna()), '\\n')\n",
    "\n",
    "# Verificamos que não há alguma StudentId repetida. Caso houvesse, simplesmente apagaríamos as duplicatas.\n",
    "print(len(set(df.index)) == df.shape[0])"
   ]
  },
  {
   "cell_type": "markdown",
   "metadata": {},
   "source": [
    "# 2. Séries temporais\n",
    "\n",
    "Afim de simplificar as análises, iremos agrupar os dados por dia, somando o número de ocorrências (registros ou inscrições em plano premium) que houveram naquele dia."
   ]
  },
  {
   "cell_type": "code",
   "execution_count": 6,
   "metadata": {},
   "outputs": [],
   "source": [
    "# Criamos grupos para registros e para inscrições, separadamente.\n",
    "g_reg = df['RegisteredDate'].groupby(df['RegisteredDate'])\n",
    "g_sub = df['SubscriptionDate'].groupby(df['SubscriptionDate'])\n",
    "\n",
    "# Após os agrupamentos serem feitos, colocamos os resultados em dataframes.\n",
    "num_reg = {x: len(g_reg.groups[x]) for x in g_reg.groups.keys()}\n",
    "num_reg_df = pd.DataFrame(num_reg.values(), index=num_reg.keys()).T\n",
    "num_reg_df = num_reg_df.rename(index={0: 'Number of registrations'})\n",
    "num_sub = {x: len(g_sub.groups[x]) for x in g_sub.groups.keys()}\n",
    "num_sub_df = pd.DataFrame(num_sub.values(), index=num_sub.keys()).T\n",
    "num_sub_df = num_sub_df.rename(index={0: 'Number of subscriptions'})"
   ]
  },
  {
   "cell_type": "code",
   "execution_count": 7,
   "metadata": {},
   "outputs": [
    {
     "data": {
      "text/html": [
       "<div>\n",
       "<style scoped>\n",
       "    .dataframe tbody tr th:only-of-type {\n",
       "        vertical-align: middle;\n",
       "    }\n",
       "\n",
       "    .dataframe tbody tr th {\n",
       "        vertical-align: top;\n",
       "    }\n",
       "\n",
       "    .dataframe thead th {\n",
       "        text-align: right;\n",
       "    }\n",
       "</style>\n",
       "<table border=\"1\" class=\"dataframe\">\n",
       "  <thead>\n",
       "    <tr style=\"text-align: right;\">\n",
       "      <th></th>\n",
       "      <th>2017-11-01 00:00:00</th>\n",
       "      <th>2017-11-02 00:00:00</th>\n",
       "      <th>2017-11-03 00:00:00</th>\n",
       "      <th>2017-11-04 00:00:00</th>\n",
       "      <th>2017-11-05 00:00:00</th>\n",
       "      <th>2017-11-06 00:00:00</th>\n",
       "      <th>2017-11-07 00:00:00</th>\n",
       "      <th>2017-11-08 00:00:00</th>\n",
       "      <th>2017-11-09 00:00:00</th>\n",
       "      <th>2017-11-10 00:00:00</th>\n",
       "      <th>...</th>\n",
       "      <th>2017-11-21 00:00:00</th>\n",
       "      <th>2017-11-22 00:00:00</th>\n",
       "      <th>2017-11-23 00:00:00</th>\n",
       "      <th>2017-11-24 00:00:00</th>\n",
       "      <th>2017-11-25 00:00:00</th>\n",
       "      <th>2017-11-26 00:00:00</th>\n",
       "      <th>2017-11-27 00:00:00</th>\n",
       "      <th>2017-11-28 00:00:00</th>\n",
       "      <th>2017-11-29 00:00:00</th>\n",
       "      <th>2017-11-30 00:00:00</th>\n",
       "    </tr>\n",
       "  </thead>\n",
       "  <tbody>\n",
       "    <tr>\n",
       "      <th>Number of registrations</th>\n",
       "      <td>190</td>\n",
       "      <td>226</td>\n",
       "      <td>192</td>\n",
       "      <td>217</td>\n",
       "      <td>340</td>\n",
       "      <td>306</td>\n",
       "      <td>259</td>\n",
       "      <td>255</td>\n",
       "      <td>214</td>\n",
       "      <td>201</td>\n",
       "      <td>...</td>\n",
       "      <td>181</td>\n",
       "      <td>138</td>\n",
       "      <td>116</td>\n",
       "      <td>98</td>\n",
       "      <td>71</td>\n",
       "      <td>86</td>\n",
       "      <td>139</td>\n",
       "      <td>114</td>\n",
       "      <td>104</td>\n",
       "      <td>83</td>\n",
       "    </tr>\n",
       "  </tbody>\n",
       "</table>\n",
       "<p>1 rows × 30 columns</p>\n",
       "</div>"
      ],
      "text/plain": [
       "                         2017-11-01  2017-11-02  2017-11-03  2017-11-04  \\\n",
       "Number of registrations         190         226         192         217   \n",
       "\n",
       "                         2017-11-05  2017-11-06  2017-11-07  2017-11-08  \\\n",
       "Number of registrations         340         306         259         255   \n",
       "\n",
       "                         2017-11-09  2017-11-10  ...  2017-11-21  2017-11-22  \\\n",
       "Number of registrations         214         201  ...         181         138   \n",
       "\n",
       "                         2017-11-23  2017-11-24  2017-11-25  2017-11-26  \\\n",
       "Number of registrations         116          98          71          86   \n",
       "\n",
       "                         2017-11-27  2017-11-28  2017-11-29  2017-11-30  \n",
       "Number of registrations         139         114         104          83  \n",
       "\n",
       "[1 rows x 30 columns]"
      ]
     },
     "execution_count": 7,
     "metadata": {},
     "output_type": "execute_result"
    }
   ],
   "source": [
    "# Número de registros por dia.\n",
    "num_reg_df"
   ]
  },
  {
   "cell_type": "code",
   "execution_count": 8,
   "metadata": {},
   "outputs": [
    {
     "data": {
      "text/html": [
       "<div>\n",
       "<style scoped>\n",
       "    .dataframe tbody tr th:only-of-type {\n",
       "        vertical-align: middle;\n",
       "    }\n",
       "\n",
       "    .dataframe tbody tr th {\n",
       "        vertical-align: top;\n",
       "    }\n",
       "\n",
       "    .dataframe thead th {\n",
       "        text-align: right;\n",
       "    }\n",
       "</style>\n",
       "<table border=\"1\" class=\"dataframe\">\n",
       "  <thead>\n",
       "    <tr style=\"text-align: right;\">\n",
       "      <th></th>\n",
       "      <th>2017-11-01 00:00:00</th>\n",
       "      <th>2017-11-02 00:00:00</th>\n",
       "      <th>2017-11-03 00:00:00</th>\n",
       "      <th>2017-11-04 00:00:00</th>\n",
       "      <th>2017-11-05 00:00:00</th>\n",
       "      <th>2017-11-06 00:00:00</th>\n",
       "      <th>2017-11-07 00:00:00</th>\n",
       "      <th>2017-11-08 00:00:00</th>\n",
       "      <th>2017-11-09 00:00:00</th>\n",
       "      <th>2017-11-10 00:00:00</th>\n",
       "      <th>...</th>\n",
       "      <th>2018-05-30 00:00:00</th>\n",
       "      <th>2018-05-31 00:00:00</th>\n",
       "      <th>2018-06-01 00:00:00</th>\n",
       "      <th>2018-06-02 00:00:00</th>\n",
       "      <th>2018-06-03 00:00:00</th>\n",
       "      <th>2018-06-04 00:00:00</th>\n",
       "      <th>2018-06-05 00:00:00</th>\n",
       "      <th>2018-06-06 00:00:00</th>\n",
       "      <th>2018-06-07 00:00:00</th>\n",
       "      <th>2018-06-08 00:00:00</th>\n",
       "    </tr>\n",
       "  </thead>\n",
       "  <tbody>\n",
       "    <tr>\n",
       "      <th>Number of subscriptions</th>\n",
       "      <td>70</td>\n",
       "      <td>106</td>\n",
       "      <td>101</td>\n",
       "      <td>110</td>\n",
       "      <td>216</td>\n",
       "      <td>154</td>\n",
       "      <td>142</td>\n",
       "      <td>126</td>\n",
       "      <td>121</td>\n",
       "      <td>119</td>\n",
       "      <td>...</td>\n",
       "      <td>26</td>\n",
       "      <td>27</td>\n",
       "      <td>11</td>\n",
       "      <td>12</td>\n",
       "      <td>12</td>\n",
       "      <td>24</td>\n",
       "      <td>26</td>\n",
       "      <td>25</td>\n",
       "      <td>14</td>\n",
       "      <td>2</td>\n",
       "    </tr>\n",
       "  </tbody>\n",
       "</table>\n",
       "<p>1 rows × 195 columns</p>\n",
       "</div>"
      ],
      "text/plain": [
       "                         2017-11-01  2017-11-02  2017-11-03  2017-11-04  \\\n",
       "Number of subscriptions          70         106         101         110   \n",
       "\n",
       "                         2017-11-05  2017-11-06  2017-11-07  2017-11-08  \\\n",
       "Number of subscriptions         216         154         142         126   \n",
       "\n",
       "                         2017-11-09  2017-11-10  ...  2018-05-30  2018-05-31  \\\n",
       "Number of subscriptions         121         119  ...          26          27   \n",
       "\n",
       "                         2018-06-01  2018-06-02  2018-06-03  2018-06-04  \\\n",
       "Number of subscriptions          11          12          12          24   \n",
       "\n",
       "                         2018-06-05  2018-06-06  2018-06-07  2018-06-08  \n",
       "Number of subscriptions          26          25          14           2  \n",
       "\n",
       "[1 rows x 195 columns]"
      ]
     },
     "execution_count": 8,
     "metadata": {},
     "output_type": "execute_result"
    }
   ],
   "source": [
    "# Número de compras de plano premium por dia.\n",
    "num_sub_df"
   ]
  },
  {
   "cell_type": "markdown",
   "metadata": {},
   "source": [
    "Abaixo nós podemos ver as séries temporais com a evolução do número de ocorrências diária. É visível que a maior parte dos planos premium foram criados em novembro, havendo um declínio após este período. A partir de março podemos ver leve um aumento na abertura destes planos, e este aumento aos poucos vai se intensificando."
   ]
  },
  {
   "cell_type": "code",
   "execution_count": 9,
   "metadata": {},
   "outputs": [
    {
     "data": {
      "image/png": "[encoded data removed]",
      "text/plain": [
       "<Figure size 864x216 with 1 Axes>"
      ]
     },
     "metadata": {
      "needs_background": "light"
     },
     "output_type": "display_data"
    },
    {
     "name": "stdout",
     "output_type": "stream",
     "text": [
      "\n",
      "\n",
      "\n"
     ]
    },
    {
     "data": {
      "image/png": "[encoded data removed]",
      "text/plain": [
       "<Figure size 864x216 with 1 Axes>"
      ]
     },
     "metadata": {
      "needs_background": "light"
     },
     "output_type": "display_data"
    }
   ],
   "source": [
    "num_reg_df.T.plot(figsize=[12, 3])\n",
    "plt.show()\n",
    "print('\\n\\n')\n",
    "num_sub_df.T.plot(figsize=[12, 3])\n",
    "plt.show()"
   ]
  },
  {
   "cell_type": "markdown",
   "metadata": {},
   "source": [
    "# 3. Probabilidades\n",
    "\n",
    "Como estamos interessados no dias passados para a compra de um plano premium, começamos vendo a diferença, em dias, entre a data do registro e a data da compra do plano premium. Faremos isso para cada estudante."
   ]
  },
  {
   "cell_type": "code",
   "execution_count": 10,
   "metadata": {},
   "outputs": [
    {
     "data": {
      "text/html": [
       "<div>\n",
       "<style scoped>\n",
       "    .dataframe tbody tr th:only-of-type {\n",
       "        vertical-align: middle;\n",
       "    }\n",
       "\n",
       "    .dataframe tbody tr th {\n",
       "        vertical-align: top;\n",
       "    }\n",
       "\n",
       "    .dataframe thead th {\n",
       "        text-align: right;\n",
       "    }\n",
       "</style>\n",
       "<table border=\"1\" class=\"dataframe\">\n",
       "  <thead>\n",
       "    <tr style=\"text-align: right;\">\n",
       "      <th></th>\n",
       "      <th>Days to get premium</th>\n",
       "    </tr>\n",
       "    <tr>\n",
       "      <th>StudentId</th>\n",
       "      <th></th>\n",
       "    </tr>\n",
       "  </thead>\n",
       "  <tbody>\n",
       "    <tr>\n",
       "      <th>98723802</th>\n",
       "      <td>0</td>\n",
       "    </tr>\n",
       "    <tr>\n",
       "      <th>86905029</th>\n",
       "      <td>16</td>\n",
       "    </tr>\n",
       "    <tr>\n",
       "      <th>40935842</th>\n",
       "      <td>0</td>\n",
       "    </tr>\n",
       "    <tr>\n",
       "      <th>83184096</th>\n",
       "      <td>198</td>\n",
       "    </tr>\n",
       "    <tr>\n",
       "      <th>12771137</th>\n",
       "      <td>0</td>\n",
       "    </tr>\n",
       "  </tbody>\n",
       "</table>\n",
       "</div>"
      ],
      "text/plain": [
       "           Days to get premium\n",
       "StudentId                     \n",
       "98723802                     0\n",
       "86905029                    16\n",
       "40935842                     0\n",
       "83184096                   198\n",
       "12771137                     0"
      ]
     },
     "execution_count": 10,
     "metadata": {},
     "output_type": "execute_result"
    }
   ],
   "source": [
    "diff_df = pd.DataFrame((df['SubscriptionDate'] - df['RegisteredDate']).dt.days, columns=['Days to get premium'])\n",
    "diff_df.head()"
   ]
  },
  {
   "cell_type": "markdown",
   "metadata": {},
   "source": [
    "Uma primeira abordagem ao problema seria simplesmente contar o número de vezes que ocorreu uma certa diferença e calcular a razão desta com o total. Abaixo nós criamos a lista **probs** que satisfaz a equação abaixo:\n",
    "\n",
    "$$\\textbf{probs}[d] \\approx \\mathbb{P}(X = d),$$\n",
    "onde $X$ é o número de dias que um aluno aleatório levou para comprar o plano premium."
   ]
  },
  {
   "cell_type": "code",
   "execution_count": 11,
   "metadata": {},
   "outputs": [],
   "source": [
    "max_diff = np.max(diff_df.values)\n",
    "probs = [100*np.sum(diff_df.values == d)/diff_df.shape[0] for d in range(max_diff)]"
   ]
  },
  {
   "cell_type": "markdown",
   "metadata": {},
   "source": [
    "Podemos ver no gráfico abaixo que mais ou menos $40 \\%$ dos estudantes compra o plano premium nos primeiro dias após ter se registrado. Isso está de acordo com a observação anterior, de que a maior parte compra o plano em novembro, o mesmo mês que fizeram registro na plataforma.  "
   ]
  },
  {
   "cell_type": "code",
   "execution_count": 14,
   "metadata": {},
   "outputs": [
    {
     "data": {
      "image/png": "[encoded data removed]",
      "text/plain": [
       "<Figure size 432x288 with 1 Axes>"
      ]
     },
     "metadata": {
      "needs_background": "light"
     },
     "output_type": "display_data"
    }
   ],
   "source": [
    "plt.plot(probs)\n",
    "plt.xlabel('Número de dias', fontsize=14)\n",
    "plt.ylabel('Probabilidade de comprar premium', fontsize=12)\n",
    "plt.grid()\n",
    "plt.show()"
   ]
  },
  {
   "cell_type": "markdown",
   "metadata": {},
   "source": [
    "Uma limitação desta abordagem é o fato de que há alguns dias específicos com zero ocorrências, mesmo que os dias vizinhos não tenham zero ocorrências. Por exemplo **prob**[85] = 0, mas isto é apenas um fator aleatório, não significa que ninguém nunca irá comprar um plano premium após 85 dias. Com mais dados certamente iríamos observar alguma ocorrência. De todo modo, afim de evitar este tipo de coisa, talvez seja mais interessante fazer um histograma e então obter a curva de densidade da função de probabilidade."
   ]
  },
  {
   "cell_type": "code",
   "execution_count": 13,
   "metadata": {},
   "outputs": [
    {
     "data": {
      "image/png": "[encoded data removed]",
      "text/plain": [
       "<Figure size 864x288 with 1 Axes>"
      ]
     },
     "metadata": {
      "needs_background": "light"
     },
     "output_type": "display_data"
    }
   ],
   "source": [
    "fig, ax = plt.subplots(figsize=[12, 4])\n",
    "lw = 2\n",
    "num_bins = 120\n",
    "hist, bins = np.histogram(diff_df, density=True, bins=num_bins)\n",
    "kde = KernelDensity(kernel='gaussian', bandwidth=0.7).fit(diff_df)\n",
    "log_dens = kde.score_samples(bins[:, np.newaxis])\n",
    "\n",
    "ax.plot(bins[:, np.newaxis], np.exp(log_dens), color='red', lw=lw, linestyle='-', label='Density Function')\n",
    "ax = sns.distplot(diff_df, hist=True, kde=True, \n",
    "             bins=num_bins, color = 'darkblue', \n",
    "             hist_kws={'edgecolor':'black'},\n",
    "             kde_kws={'linewidth': 0})\n",
    "ax.legend()\n",
    "plt.show()"
   ]
  },
  {
   "cell_type": "markdown",
   "metadata": {},
   "source": [
    "Vamos denotar por $f$ a função de densidade de probabilidade e $F$ a função de distribuição acumulada correspondente. Deste modo, a probabilidade de um estudante comprar um plano premium entre $d_1$ e $d_2$ dias é dada por\n",
    "$$\\mathbb{P}(d_1 \\leq X \\leq d_2) = \\int_{d_1}^{d_2} f(x) \\ dx = F(d_2) - F(d_1).$$\n",
    "\n",
    "Usando a densidade obtida pela função *KernelDensity* acima, podemos começar a estimar probabilidades à vontade."
   ]
  },
  {
   "cell_type": "code",
   "execution_count": 14,
   "metadata": {},
   "outputs": [],
   "source": [
    "def integrate(delta_x, y):\n",
    "    \"\"\"\n",
    "    Computes the area below curve y, with bins of width delta_x.\n",
    "    \n",
    "    Parameters:\n",
    "    delta_x: positive float\n",
    "        Bins width\n",
    "    y: float array\n",
    "        Image of some function f(x) = y.\n",
    "        \n",
    "    Returns:\n",
    "    area: float\n",
    "    \"\"\"\n",
    "    \n",
    "    area = delta_x * np.sum(y)\n",
    "    if area > 1:\n",
    "        area = 1\n",
    "    return area"
   ]
  },
  {
   "cell_type": "code",
   "execution_count": 15,
   "metadata": {},
   "outputs": [
    {
     "data": {
      "image/png": "[encoded data removed]",
      "text/plain": [
       "<Figure size 432x288 with 1 Axes>"
      ]
     },
     "metadata": {
      "needs_background": "light"
     },
     "output_type": "display_data"
    }
   ],
   "source": [
    "# Criamos a função de de densidade f e a função de distribuição acumulada F.\n",
    "x = bins[:-1]\n",
    "f = np.exp(log_dens)\n",
    "delta_x = abs(x[1] - x[0]) \n",
    "\n",
    "F = []\n",
    "for i in range(num_bins):\n",
    "    F.append(integrate(delta_x, f[:i]))\n",
    "    \n",
    "plt.plot(x, F)\n",
    "plt.grid()\n",
    "plt.xlabel('Número de dias')\n",
    "plt.ylabel('F(d)')\n",
    "plt.show()"
   ]
  },
  {
   "cell_type": "markdown",
   "metadata": {},
   "source": [
    "Agora podemos fazer algumas estimativas. Há apenas um detalhe para ser ajeitado. O número de bins usado para fazer o histograma não coincide com o número total de dias. Se quisermos calcular **F**[10], temos que encontrar o índice i tal que **x**[i] é o mais próximo de 10. Daí calculamos **F**[**x**[i]]. A pequena rotina abaixo realiza esta tarefa, e é ela que devemos utilizar para calcular as probabilidades. "
   ]
  },
  {
   "cell_type": "code",
   "execution_count": 16,
   "metadata": {},
   "outputs": [],
   "source": [
    "def prob(d1, d2, x, F):\n",
    "    \"\"\"\n",
    "    This function computes the probability that a student will buy the \n",
    "    premium plan in d days, where d1 <= d <= d2.\n",
    "    \n",
    "    Parameters:\n",
    "    d1, d2: int\n",
    "        d1 to d2 is the range of days since the registration\n",
    "    x: float array\n",
    "        The bins used to create the histogram and construct F\n",
    "    F: float array\n",
    "        Cumulative distribution function\n",
    "        \n",
    "    Returns:\n",
    "    p: float\n",
    "    \"\"\"\n",
    "    \n",
    "    d1 = (np.abs(x - d1)).argmin()\n",
    "    d2 = (np.abs(x - d2)).argmin()\n",
    "    p = F[d2] - F[d1]\n",
    "    return 100*p"
   ]
  },
  {
   "cell_type": "code",
   "execution_count": 17,
   "metadata": {},
   "outputs": [
    {
     "name": "stdout",
     "output_type": "stream",
     "text": [
      "De 0 a 3 dias -> 54.32 %\n",
      "De 4 a 8 dias -> 5.00 %\n",
      "De 8 a 30 dias -> 9.85 %\n",
      "De 30 a 200 dias -> 30.25 %\n"
     ]
    }
   ],
   "source": [
    "print('De 0 a 3 dias -> {0:.2f} %'.format(prob(0, 3, x, F)))\n",
    "print('De 4 a 8 dias -> {0:.2f} %'.format(prob(4, 8, x, F)))\n",
    "print('De 8 a 30 dias -> {0:.2f} %'.format(prob(8, 30, x, F)))\n",
    "print('De 30 a 200 dias -> {0:.2f} %'.format(prob(30, 200, x, F)))"
   ]
  }
 ],
 "metadata": {
  "kernelspec": {
   "display_name": "Python 3",
   "language": "python",
   "name": "python3"
  },
  "language_info": {
   "codemirror_mode": {
    "name": "ipython",
    "version": 3
   },
   "file_extension": ".py",
   "mimetype": "text/x-python",
   "name": "python",
   "nbconvert_exporter": "python",
   "pygments_lexer": "ipython3",
   "version": "3.7.3"
  }
 },
 "nbformat": 4,
 "nbformat_minor": 2
}
