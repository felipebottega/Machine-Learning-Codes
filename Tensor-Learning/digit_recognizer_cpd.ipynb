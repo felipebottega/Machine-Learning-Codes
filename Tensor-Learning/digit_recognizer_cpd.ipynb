{
 "cells": [
  {
   "cell_type": "markdown",
   "metadata": {},
   "source": [
    "# Tensor learning as a special neural network\n",
    "\n",
    "Given the input data $\\textbf{x} = [x_1, \\ldots, x_n]^T \\in \\mathbb{R}^n$, an usual neural network uses a few number of layers with weights and activation functions in order to compute the respective output $\\textbf{y} \\in \\mathbb{R}^m$. Each weight is a matrix, usually bigger than $n \\times n$ (except in the last layer). As an alternative to a neural network, we propose to use $m$ tensors $\\mathcal{T}_1, \\ldots, \\mathcal{T}_m \\in \\mathbb{R}^{I_1 \\times \\ldots \\times I_L}$, given by\n",
    "\n",
    "$$\\mathcal{T}_k = \\sum_{r=1}^R \\textbf{w}_r^{(k,1)} \\otimes \\ldots \\otimes \\textbf{w}_r^{(k,L)},$$\n",
    "for $I_1 = I_2 = \\ldots = I_L = n$ and $k = 1 \\ldots m$.\n",
    "\n",
    "Each $\\mathcal{T}_k$ is responsible for one output and each $\\textbf{w}_r^{(k,\\ell)} \\in \\mathbb{R}^n$ is a vector of weights. These weights are going to be computed in the same way we compute the weights of a neural network, that is, by minimizing a cost function. In this model, the input-output function, also called the *hypothesis*, is the function $h: \\mathbb{R}^n \\to \\mathbb{R}^m$ defined as\n",
    "\n",
    "$$ \th(\\textbf{x}) = \\textbf{f}\\left[\n",
    "\t\\begin{array}{c}\n",
    "    \t\\mathcal{T}_1(\\underbrace{\\textbf{x}, \\ldots, \\textbf{x}}_{L \\text{ times}})\\\\\n",
    "    \t\\vdots\\\\\n",
    "    \t\\mathcal{T}_m(\\underbrace{\\textbf{x}, \\ldots, \\textbf{x}}_{L \\text{ times}})\\\\\n",
    "\t\\end{array}\n",
    "\\right]\t$$\n",
    "where $\\textbf{f}:\\mathbb{R}^m \\to \\mathbb{R}$ is defined as $\\textbf{f} = (\\underbrace{f, \\ldots, f}_{m \\text{ times}})$ for a nonlinear function $f:\\mathbb{R} \\to \\mathbb{R}$. If one wants to write the hypothesis function in explicit form, then we have that\n",
    "\n",
    "$$h(\\textbf{x}) = \\textbf{f} \\left[\n",
    "\t\\begin{array}{c}\n",
    "   \t\t\\sum_{r=1}^R \\prod_{\\ell=1}^L \\langle \\textbf{w}_r^{(1,\\ell)}, \\textbf{x} \\rangle  \\\\\n",
    "   \t\t\\vdots\\\\\n",
    "   \t\t\\sum_{r=1}^R \\prod_{\\ell=1}^L \\langle \\textbf{w}_r^{(m,\\ell)}, \\textbf{x} \\rangle  \\\\\n",
    "\t\\end{array}\n",
    "\\right] = $$\n",
    "\n",
    "$$ = \\left[\n",
    "\t\\begin{array}{c}\n",
    "   \t\tf\\left( \\sum_{r=1}^R \\sum_{i_1, \\ldots, i_L=1}^n w_{i_1 r}^{(1,1)} \\ldots w_{i_\\ell r}^{(1,L)} x_{i_1} \\ldots x_{i_L} \\right) \\\\\n",
    "   \t\t\\vdots\\\\\n",
    "   \t\tf\\left( \\sum_{r=1}^R \\sum_{i_1, \\ldots, i_L=1}^n w_{i_1 r}^{(m,1)} \\ldots w_{i_\\ell r}^{(m,L)} x_{i_1} \\ldots x_{i_L} \\right) \\\\\n",
    "\t\\end{array}\n",
    "\\right].$$\n",
    "\n",
    "Notice that $rank(\\mathcal{T}_k) \\leq R$ by construction. As is usual in machine learning algorithms, we use the convention $\\textbf{x} = [1, x_2, \\ldots, x_n]^T$, that is, $x_1 = 1$ is the bias of the model. Now let $S = \\{ (i_1, \\ldots, i_L): 1 \\leq i_1, \\ldots, i_L \\leq n, \\ (i_1, \\ldots, i_L) \\neq (1, \\ldots, 1) \\}$, then we can write the above expression as \n",
    "\n",
    "$$ \\left[\n",
    "\t\\begin{array}{c}\n",
    "   \t\tf\\left( b_1 + \\sum_{r=1}^R \\sum_{(i_1, \\ldots, i_L) \\in S} w_{i_1 r}^{(1,1)} \\ldots w_{i_L r}^{(1,L)} x_{i_1} \\ldots x_{i_L} \\right) \\\\\n",
    "   \t\t\\vdots\\\\\n",
    "   \t\tf\\left( b_m + \\sum_{r=1}^R \\sum_{(i_1, \\ldots, i_L) \\in S} w_{i_1 r}^{(m,1)} \\ldots w_{i_L r}^{(m,L)} x_{i_1} \\ldots x_{i_L} \\right) \\\\\n",
    "\t\\end{array}\n",
    "\\right]$$\n",
    "where each $b_k = \\sum_{r=1}^R (w_{1 r}^{(k,1)})^{L}$ is a bias parameter of the model.\n",
    "\n",
    "\n",
    "In a neural network each activation function receives a weighted sum of the form \n",
    "$$\\sum_{j=1}^n w_j x_j,$$\n",
    "whereas in the tensor learning we have multilinear weighted sums of the form \n",
    "\n",
    "$$\\sum_{i_1, \\ldots, i_L=1}^n w_{i_1 r}^{(k,1)} \\ldots w_{i_L r}^{(k,L)} x_{i_1} \\ldots x_{i_L}$$ \n",
    "and just one activation per output. Contrary to the neural network model where we have lots of activations and few direct interactions between the weights (by *direct interactions* we mean multiplications between the weights), in the tensor learning approach we have few activations and lots of direct interactions between the weights, through the multilinearity. Our hope is that this multilinearity compensates the lack of activation functions. We start importing the necessary modules."
   ]
  },
  {
   "cell_type": "code",
   "execution_count": 1,
   "metadata": {},
   "outputs": [],
   "source": [
    "import numpy as np\n",
    "import matplotlib.pyplot as plt\n",
    "import pandas as pd\n",
    "import TensorFox as tfx\n",
    "import TensorFox.TensorLearning as tl"
   ]
  },
  {
   "cell_type": "code",
   "execution_count": 2,
   "metadata": {},
   "outputs": [
    {
     "data": {
      "text/html": [
       "<div>\n",
       "<style scoped>\n",
       "    .dataframe tbody tr th:only-of-type {\n",
       "        vertical-align: middle;\n",
       "    }\n",
       "\n",
       "    .dataframe tbody tr th {\n",
       "        vertical-align: top;\n",
       "    }\n",
       "\n",
       "    .dataframe thead th {\n",
       "        text-align: right;\n",
       "    }\n",
       "</style>\n",
       "<table border=\"1\" class=\"dataframe\">\n",
       "  <thead>\n",
       "    <tr style=\"text-align: right;\">\n",
       "      <th></th>\n",
       "      <th>label</th>\n",
       "      <th>pixel0</th>\n",
       "      <th>pixel1</th>\n",
       "      <th>pixel2</th>\n",
       "      <th>pixel3</th>\n",
       "      <th>pixel4</th>\n",
       "      <th>pixel5</th>\n",
       "      <th>pixel6</th>\n",
       "      <th>pixel7</th>\n",
       "      <th>pixel8</th>\n",
       "      <th>...</th>\n",
       "      <th>pixel774</th>\n",
       "      <th>pixel775</th>\n",
       "      <th>pixel776</th>\n",
       "      <th>pixel777</th>\n",
       "      <th>pixel778</th>\n",
       "      <th>pixel779</th>\n",
       "      <th>pixel780</th>\n",
       "      <th>pixel781</th>\n",
       "      <th>pixel782</th>\n",
       "      <th>pixel783</th>\n",
       "    </tr>\n",
       "  </thead>\n",
       "  <tbody>\n",
       "    <tr>\n",
       "      <th>0</th>\n",
       "      <td>1</td>\n",
       "      <td>0</td>\n",
       "      <td>0</td>\n",
       "      <td>0</td>\n",
       "      <td>0</td>\n",
       "      <td>0</td>\n",
       "      <td>0</td>\n",
       "      <td>0</td>\n",
       "      <td>0</td>\n",
       "      <td>0</td>\n",
       "      <td>...</td>\n",
       "      <td>0</td>\n",
       "      <td>0</td>\n",
       "      <td>0</td>\n",
       "      <td>0</td>\n",
       "      <td>0</td>\n",
       "      <td>0</td>\n",
       "      <td>0</td>\n",
       "      <td>0</td>\n",
       "      <td>0</td>\n",
       "      <td>0</td>\n",
       "    </tr>\n",
       "    <tr>\n",
       "      <th>1</th>\n",
       "      <td>0</td>\n",
       "      <td>0</td>\n",
       "      <td>0</td>\n",
       "      <td>0</td>\n",
       "      <td>0</td>\n",
       "      <td>0</td>\n",
       "      <td>0</td>\n",
       "      <td>0</td>\n",
       "      <td>0</td>\n",
       "      <td>0</td>\n",
       "      <td>...</td>\n",
       "      <td>0</td>\n",
       "      <td>0</td>\n",
       "      <td>0</td>\n",
       "      <td>0</td>\n",
       "      <td>0</td>\n",
       "      <td>0</td>\n",
       "      <td>0</td>\n",
       "      <td>0</td>\n",
       "      <td>0</td>\n",
       "      <td>0</td>\n",
       "    </tr>\n",
       "    <tr>\n",
       "      <th>2</th>\n",
       "      <td>1</td>\n",
       "      <td>0</td>\n",
       "      <td>0</td>\n",
       "      <td>0</td>\n",
       "      <td>0</td>\n",
       "      <td>0</td>\n",
       "      <td>0</td>\n",
       "      <td>0</td>\n",
       "      <td>0</td>\n",
       "      <td>0</td>\n",
       "      <td>...</td>\n",
       "      <td>0</td>\n",
       "      <td>0</td>\n",
       "      <td>0</td>\n",
       "      <td>0</td>\n",
       "      <td>0</td>\n",
       "      <td>0</td>\n",
       "      <td>0</td>\n",
       "      <td>0</td>\n",
       "      <td>0</td>\n",
       "      <td>0</td>\n",
       "    </tr>\n",
       "    <tr>\n",
       "      <th>3</th>\n",
       "      <td>4</td>\n",
       "      <td>0</td>\n",
       "      <td>0</td>\n",
       "      <td>0</td>\n",
       "      <td>0</td>\n",
       "      <td>0</td>\n",
       "      <td>0</td>\n",
       "      <td>0</td>\n",
       "      <td>0</td>\n",
       "      <td>0</td>\n",
       "      <td>...</td>\n",
       "      <td>0</td>\n",
       "      <td>0</td>\n",
       "      <td>0</td>\n",
       "      <td>0</td>\n",
       "      <td>0</td>\n",
       "      <td>0</td>\n",
       "      <td>0</td>\n",
       "      <td>0</td>\n",
       "      <td>0</td>\n",
       "      <td>0</td>\n",
       "    </tr>\n",
       "    <tr>\n",
       "      <th>4</th>\n",
       "      <td>0</td>\n",
       "      <td>0</td>\n",
       "      <td>0</td>\n",
       "      <td>0</td>\n",
       "      <td>0</td>\n",
       "      <td>0</td>\n",
       "      <td>0</td>\n",
       "      <td>0</td>\n",
       "      <td>0</td>\n",
       "      <td>0</td>\n",
       "      <td>...</td>\n",
       "      <td>0</td>\n",
       "      <td>0</td>\n",
       "      <td>0</td>\n",
       "      <td>0</td>\n",
       "      <td>0</td>\n",
       "      <td>0</td>\n",
       "      <td>0</td>\n",
       "      <td>0</td>\n",
       "      <td>0</td>\n",
       "      <td>0</td>\n",
       "    </tr>\n",
       "  </tbody>\n",
       "</table>\n",
       "<p>5 rows × 785 columns</p>\n",
       "</div>"
      ],
      "text/plain": [
       "   label  pixel0  pixel1  pixel2  pixel3  pixel4  pixel5  pixel6  pixel7  \\\n",
       "0      1       0       0       0       0       0       0       0       0   \n",
       "1      0       0       0       0       0       0       0       0       0   \n",
       "2      1       0       0       0       0       0       0       0       0   \n",
       "3      4       0       0       0       0       0       0       0       0   \n",
       "4      0       0       0       0       0       0       0       0       0   \n",
       "\n",
       "   pixel8  ...  pixel774  pixel775  pixel776  pixel777  pixel778  pixel779  \\\n",
       "0       0  ...         0         0         0         0         0         0   \n",
       "1       0  ...         0         0         0         0         0         0   \n",
       "2       0  ...         0         0         0         0         0         0   \n",
       "3       0  ...         0         0         0         0         0         0   \n",
       "4       0  ...         0         0         0         0         0         0   \n",
       "\n",
       "   pixel780  pixel781  pixel782  pixel783  \n",
       "0         0         0         0         0  \n",
       "1         0         0         0         0  \n",
       "2         0         0         0         0  \n",
       "3         0         0         0         0  \n",
       "4         0         0         0         0  \n",
       "\n",
       "[5 rows x 785 columns]"
      ]
     },
     "execution_count": 2,
     "metadata": {},
     "output_type": "execute_result"
    }
   ],
   "source": [
    "# LOAD DATA\n",
    "\n",
    "# Load train dataset (source: https://www.kaggle.com/c/digit-recognizer)\n",
    "\n",
    "data = pd.read_csv('train.csv')\n",
    "data_array = data.values\n",
    "data.head()"
   ]
  },
  {
   "cell_type": "code",
   "execution_count": 3,
   "metadata": {},
   "outputs": [],
   "source": [
    "# PREPROCESSING\n",
    "\n",
    "# The first column are the labels, so we create the input array X and the label array Y accordingly.\n",
    "num_samples, n = data_array.shape[0], data_array.shape[1] - 1\n",
    "X = np.zeros((num_samples, n))\n",
    "Y = np.zeros(num_samples, dtype=np.int64)\n",
    "for i in range(num_samples):\n",
    "    X[i, :] = data_array[i, 1:]\n",
    "    Y[i] = data_array[i, 0]\n",
    "    \n",
    "# Shuffle data to avoid bias from ordering.\n",
    "num_samples = X.shape[0]\n",
    "idx = np.arange(num_samples)\n",
    "np.random.shuffle(idx)\n",
    "X = X[idx,:]\n",
    "Y = Y[idx]\n",
    "\n",
    "# Split data in train and validate datasets.\n",
    "X_train = X[:32000, :]\n",
    "Y_train = Y[:32000]\n",
    "X_val = X[32000:, :]\n",
    "Y_val = Y[32000:]\n",
    "\n",
    "# Load test dataset.\n",
    "data = pd.read_csv('test.csv')\n",
    "X_test = data.values"
   ]
  },
  {
   "cell_type": "code",
   "execution_count": 4,
   "metadata": {},
   "outputs": [
    {
     "name": "stdout",
     "output_type": "stream",
     "text": [
      "mean = 33.377603874362244 sigma = 255.0\n",
      "Train dataset dimensions = (32000, 65)\n"
     ]
    }
   ],
   "source": [
    "# Normalize data.\n",
    "X_train, mu, sigma = tl.normalization(X_train, method='mean_normalization')\n",
    "print('mean =', mu, 'sigma =', sigma)\n",
    "\n",
    "# p is the level of precision of the PCA function. The function 'prepare_data' also add a bias input to \n",
    "# the train dataset.\n",
    "p = 0.9\n",
    "X_bias, U = tl.prepare_data(X_train, p)\n",
    "\n",
    "# Normalize and make pca with validation dataset.\n",
    "X_val = tl.norm_pca(X_val, U, mu, sigma)\n",
    "\n",
    "# Print the dimensions of the dataset to be used in the training.\n",
    "print('Train dataset dimensions =', X_bias.shape)"
   ]
  },
  {
   "cell_type": "markdown",
   "metadata": {},
   "source": [
    "# Structure of the model\n",
    "\n",
    "It is possible to interpret tensor learning as a neural network (with 2 hidden layers) which relies almost entirely on the classic dot product plus activation function recipe. This interpretation shades more light on what is really happening and why tensor learning may be a valid alternative to the classic neural network. \n",
    "\n",
    "The figure below shows the architecture of such interpretation for $n=3, m=2, L=2, R=2$. The red lines represents classic neural network connections, that is, each line has a weight which is multiplied by the input and summed with all other lines reaching the same neuron. Blue lines means to multiply the inputs by the inputs of all other lines reaching the same neuron. The first layer of lines contains all the weights in our model. The second layer of lines makes the multiplications, and is in this part where we the model is no more the classic one. The third layer of lines are classic neural network connections with all weights equal to 1. Except for the last layer of neurons (the output layer), all other neurons have activation function equals the identity function. In the last layer the activation function is the nonlinear function $f$. We can note that the blue lines are the great novelty in this approach compared to the classic neural network. They represent the part where the weights are mixed together. Also note that this special neural network has *m R L + m R + m* neurons. This usually will be much smaller than any neural network applied to the same problem, because a neural network uses $\\mathcal{O}(n)$ neurons at the first layers, and we almost always have that $m, R, L \\ll n$."
   ]
  },
  {
   "cell_type": "markdown",
   "metadata": {},
   "source": [
    "![neural](neural.png)"
   ]
  },
  {
   "cell_type": "code",
   "execution_count": 5,
   "metadata": {},
   "outputs": [
    {
     "name": "stdout",
     "output_type": "stream",
     "text": [
      "Epoch 1: [==========================================================================================] 100.00%\n",
      "Epoch 2: [==========================================================================================] 100.00%\n",
      "Epoch 3: [==========================================================================================] 100.00%\n",
      "Epoch 4: [==========================================================================================] 100.00%\n",
      "Epoch 5: [==========================================================================================] 100.00%\n",
      "Epoch 6: [==========================================================================================] 100.00%\n",
      "Epoch 7: [==========================================================================================] 100.00%\n",
      "Epoch 8: [==========================================================================================] 100.00%\n",
      "Epoch 9: [==========================================================================================] 100.00%\n",
      "Epoch 10: [==========================================================================================] 100.00%\n",
      "Epoch 11: [==========================================================================================] 100.00%\n",
      "Epoch 12: [==========================================================================================] 100.00%\n",
      "Epoch 13: [==========================================================================================] 100.00%\n",
      "Epoch 14: [==========================================================================================] 100.00%\n",
      "Epoch 15: [==========================================================================================] 100.00%\n",
      "Epoch 16: [==========================================================================================] 100.00%\n",
      "Epoch 17: [==========================================================================================] 100.00%\n",
      "Epoch 18: [==========================================================================================] 100.00%\n",
      "Epoch 19: [==========================================================================================] 100.00%\n",
      "Epoch 20: [==========================================================================================] 100.00%\n",
      "Epoch 21: [==========================================================================================] 100.00%\n",
      "Epoch 22: [==========================================================================================] 100.00%\n",
      "Epoch 23: [==========================================================================================] 100.00%\n",
      "Epoch 24: [==========================================================================================] 100.00%\n",
      "Epoch 25: [==========================================================================================] 100.00%\n",
      "Epoch 26: [==========================================================================================] 100.00%\n",
      "Epoch 27: [==========================================================================================] 100.00%\n",
      "Epoch 28: [==========================================================================================] 100.00%\n",
      "Epoch 29: [==========================================================================================] 100.00%\n",
      "Epoch 30: [==========================================================================================] 100.00%\n",
      "Epoch 31: [==========================================================================================] 100.00%\n",
      "Epoch 32: [==========================================================================================] 100.00%\n",
      "Epoch 33: [==========================================================================================] 100.00%\n",
      "Epoch 34: [==========================================================================================] 100.00%\n",
      "Epoch 35: [==========================================================================================] 100.00%\n",
      "Epoch 36: [==========================================================================================] 100.00%\n",
      "Epoch 37: [==========================================================================================] 100.00%\n",
      "Epoch 38: [==========================================================================================] 100.00%\n",
      "Epoch 39: [==========================================================================================] 100.00%\n",
      "Epoch 40: [==========================================================================================] 100.00%\n",
      "\n",
      "Dimensions of input: 65\n",
      "Dimensions of target: 10\n",
      "Rank: 20\n",
      "Number of factor matrices: 3\n",
      "Number of epochs: 40\n",
      "Number of weights: 2800\n",
      "Accuracy over training dataset: 99.434 %\n",
      "Accuracy over validation dataset: 98.08 %\n",
      "\n"
     ]
    },
    {
     "data": {
      "image/png": "[encoded data removed]",
      "text/plain": [
       "<Figure size 720x288 with 1 Axes>"
      ]
     },
     "metadata": {
      "needs_background": "light"
     },
     "output_type": "display_data"
    },
    {
     "data": {
      "image/png": "[encoded data removed]",
      "text/plain": [
       "<Figure size 720x288 with 1 Axes>"
      ]
     },
     "metadata": {
      "needs_background": "light"
     },
     "output_type": "display_data"
    },
    {
     "name": "stdout",
     "output_type": "stream",
     "text": [
      "Accuracy over entire dataset = 99.031 %\n",
      "===============================================\n",
      "\n"
     ]
    }
   ],
   "source": [
    "# TRAINING\n",
    "\n",
    "# The parameters used below were obtained after a hyperparameter grid search. \n",
    "\n",
    "# Number of factor matrices (order of the tensors)\n",
    "L = 3\n",
    "# Rank\n",
    "R = 20\n",
    "# Learning rate parameter\n",
    "alpha = 0.03\n",
    "# Learning decay parameter\n",
    "alpha_decay = 0.95\n",
    "# Regularization parameter\n",
    "Lambda = 0.0003\n",
    "# Number of epochs\n",
    "epochs = 40\n",
    "# Batch size\n",
    "batch = 1\n",
    "\n",
    "# Initialize weights\n",
    "m = int(max(Y)) + 1\n",
    "n = X_bias.shape[1]\n",
    "W = tl.init_W(m, L, n, R)\n",
    "\n",
    "# Train model\n",
    "W, accuracy, accuracy_val, cost_function, success = tl.cpd_train(X_bias, Y, X_val, Y_val, W, \n",
    "                                                                 alpha=alpha, alpha_decay=alpha_decay, \n",
    "                                                                 Lambda=Lambda, \n",
    "                                                                 epochs=epochs, batch=batch, \n",
    "                                                                 display=True)\n",
    "\n",
    "accuracy_dataset = tl.cpd_test(X, Y, W, U, mu=mu, sigma=sigma)\n",
    "print('Accuracy over entire dataset =', np.round(accuracy_dataset, 3), '%')\n",
    "print('===============================================')\n",
    "print()"
   ]
  },
  {
   "cell_type": "markdown",
   "metadata": {},
   "source": [
    "Our final task now is to use our model to make predictions over the test dataset and then save these predictions in a csv file. Note that the function **cpd_predictions** must receive the parameters *U, mu* and *sigma*, so that the test dataset is normalized and the correct PCA is performed before the predictions are made."
   ]
  },
  {
   "cell_type": "code",
   "execution_count": 6,
   "metadata": {},
   "outputs": [
    {
     "name": "stdout",
     "output_type": "stream",
     "text": [
      "   ImageId  Label\n",
      "0        1      2\n",
      "1        2      0\n",
      "2        3      9\n",
      "3        4      9\n",
      "4        5      3\n"
     ]
    }
   ],
   "source": [
    "# Make predictions and save them in a csv file.\n",
    "predictions = tl.cpd_predictions(X_test, W, U, mu=mu, sigma=sigma)\n",
    "submission = pd.read_csv('sample_submission.csv')\n",
    "submission[\"Label\"] = predictions\n",
    "submission.to_csv('cpd_submission.csv', index=False)\n",
    "print(submission.head())"
   ]
  },
  {
   "cell_type": "markdown",
   "metadata": {},
   "source": [
    "With this approach we could achieve a score of $0.978$ ($97.8 \\%$ of accuracy) in the Kaggle's competition [digit recognizer](https://www.kaggle.com/c/digit-recognizer)."
   ]
  },
  {
   "cell_type": "markdown",
   "metadata": {},
   "source": [
    "# Using the CPD to simplify the model\n",
    "\n",
    "After we have a set of weights, we may wonder if there are redundant weights. One way to simplify the model is to approximate each tensor $\\mathcal{T}_k$ by another with rank lower than the current one, which is $R = 20$. We use the function **simplify_model** to obtain a simplified model. Let's see the error of the CPD approximations for the ranks $r=1 \\ldots 20$."
   ]
  },
  {
   "cell_type": "code",
   "execution_count": 7,
   "metadata": {
    "scrolled": false
   },
   "outputs": [
    {
     "name": "stdout",
     "output_type": "stream",
     "text": [
      "Testing rank = 1\n",
      "Testing rank = 2\n",
      "Testing rank = 3\n",
      "Testing rank = 4\n",
      "Testing rank = 5\n",
      "Testing rank = 6\n",
      "Testing rank = 7\n",
      "Testing rank = 8\n",
      "Testing rank = 9\n",
      "Testing rank = 10\n",
      "Testing rank = 11\n",
      "Testing rank = 12\n",
      "Testing rank = 13\n",
      "Testing rank = 14\n",
      "Testing rank = 15\n",
      "Testing rank = 16\n",
      "Testing rank = 17\n",
      "Testing rank = 18\n",
      "Testing rank = 19\n",
      "Testing rank = 20\n"
     ]
    },
    {
     "data": {
      "image/png": "[encoded data removed]",
      "text/plain": [
       "<Figure size 432x288 with 1 Axes>"
      ]
     },
     "metadata": {
      "needs_background": "light"
     },
     "output_type": "display_data"
    }
   ],
   "source": [
    "# We try to find a CPD with rank less than 20 for the tensors. \n",
    "# options=False means we are using default parameters for the cpd function.\n",
    "\n",
    "# Initialize variables.\n",
    "best_of = 3\n",
    "dims = L*(X_bias.shape[1], )\n",
    "T_approx = np.zeros(dims)\n",
    "ranks = range(1, 21)\n",
    "errors = []\n",
    "\n",
    "class options:\n",
    "    inner_method = 'cg_static'\n",
    "\n",
    "for r in ranks:\n",
    "    print('Testing rank =', r)\n",
    "    # Try to compute the CPD a few times.\n",
    "    best_new_errors = np.inf\n",
    "    for i in range(best_of):\n",
    "        new_W, new_errors = tl.simplify_model(W, r, options)\n",
    "        new_errors = np.array(new_errors).mean()\n",
    "        if new_errors < best_new_errors:\n",
    "            best_new_errors = new_errors\n",
    "    errors.append(best_new_errors)\n",
    "        \n",
    "# Plot results.\n",
    "plt.plot(ranks, errors, 'b--')\n",
    "plt.plot(ranks, errors, 'bs')\n",
    "plt.title('CPD errors')\n",
    "plt.xlabel('Rank')\n",
    "plt.ylabel('Error')\n",
    "plt.yscale('log')\n",
    "plt.grid()\n",
    "plt.show()"
   ]
  },
  {
   "cell_type": "markdown",
   "metadata": {},
   "source": [
    "Based on the figure above we choose to use $R = 18$, which is the first rank with error less than $10^{-2}$. To obtain a reasonable set of CPDs approximations we repeat the call to **simplify_model** a few times and keep the best result."
   ]
  },
  {
   "cell_type": "code",
   "execution_count": 8,
   "metadata": {},
   "outputs": [
    {
     "name": "stdout",
     "output_type": "stream",
     "text": [
      "0.005712239612905154\n"
     ]
    }
   ],
   "source": [
    "R = 18\n",
    "best_of = 15\n",
    "best_new_errors = np.inf\n",
    "for i in range(best_of):\n",
    "    new_W, new_errors = tl.simplify_model(W, R, options)\n",
    "    new_errors = np.array(new_errors).mean()\n",
    "    if new_errors < best_new_errors:\n",
    "        best_new_W = new_W.copy()\n",
    "        best_new_errors = new_errors\n",
    "print(best_new_errors)"
   ]
  },
  {
   "cell_type": "code",
   "execution_count": 10,
   "metadata": {},
   "outputs": [
    {
     "name": "stdout",
     "output_type": "stream",
     "text": [
      "   ImageId  Label\n",
      "0        1      2\n",
      "1        2      0\n",
      "2        3      9\n",
      "3        4      9\n",
      "4        5      2\n"
     ]
    }
   ],
   "source": [
    "# Make predictions and save them in a csv file.\n",
    "predictions = tl.cpd_predictions(X_test, best_new_W, U, mu=mu, sigma=sigma)\n",
    "submission = pd.read_csv('sample_submission.csv')\n",
    "submission[\"Label\"] = predictions\n",
    "submission.to_csv('cpd_submission.csv', index=False)\n",
    "print(submission.head())"
   ]
  },
  {
   "cell_type": "markdown",
   "metadata": {},
   "source": [
    "With this approach we could achieve a score of $0.97628$ in the Kaggle's competition. Therefore it is possible to simplify the model and still mantain (almost) the same accuracy. In this case the original model (for $R = 20$) had $10 \\times 3 \\times 65 \\times 20 = 39000$ parameters, whereas the simplified model ($R = 17$) have $10 \\times 3 \\times 65 \\times 18 = 35100$ parameters."
   ]
  }
 ],
 "metadata": {
  "kernelspec": {
   "display_name": "Python 3",
   "language": "python",
   "name": "python3"
  },
  "language_info": {
   "codemirror_mode": {
    "name": "ipython",
    "version": 3
   },
   "file_extension": ".py",
   "mimetype": "text/x-python",
   "name": "python",
   "nbconvert_exporter": "python",
   "pygments_lexer": "ipython3",
   "version": "3.7.3"
  }
 },
 "nbformat": 4,
 "nbformat_minor": 2
}
