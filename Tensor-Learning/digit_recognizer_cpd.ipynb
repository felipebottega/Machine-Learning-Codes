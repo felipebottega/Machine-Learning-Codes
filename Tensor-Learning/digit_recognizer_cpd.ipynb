{
 "cells": [
  {
   "cell_type": "markdown",
   "metadata": {},
   "source": [
    "# Tensor learning as a special neural network\n",
    "\n",
    "Given the input data $\\textbf{x} = [x_1, \\ldots, x_n]^T \\in \\mathbb{R}^n$, an usual neural network uses a few number of layers with weights and activation functions in order to compute the respective output $\\textbf{y} \\in \\mathbb{R}^m$. Each weight is a matrix, usually bigger than $n \\times n$ (except in the last layer). As an alternative to a neural network, we propose to use $m$ tensors $\\mathcal{T}_1, \\ldots, \\mathcal{T}_m \\in \\mathbb{R}^{I_1 \\times \\ldots \\times I_L}$, given by\n",
    "\n",
    "$$\\mathcal{T}_k = \\sum_{r=1}^R \\textbf{w}_r^{(k,1)} \\otimes \\ldots \\otimes \\textbf{w}_r^{(k,L)},$$\n",
    "for $I_1 = I_2 = \\ldots = I_L = n$ and $k = 1 \\ldots m$.\n",
    "\n",
    "Each $\\mathcal{T}_k$ is responsible for one output and each $\\textbf{w}_r^{(k,\\ell)} \\in \\mathbb{R}^n$ is a vector of weights. These weights are going to be computed in the same way we compute the weights of a neural network, that is, by minimizing a cost function. In this model, the input-output function, also called the *hypothesis*, is the function $h: \\mathbb{R}^n \\to \\mathbb{R}^m$ defined as\n",
    "\n",
    "$$ \th(\\textbf{x}) = \\textbf{f}\\left[\n",
    "\t\\begin{array}{c}\n",
    "    \t\\mathcal{T}_1(\\underbrace{\\textbf{x}, \\ldots, \\textbf{x}}_{L \\text{ times}})\\\\\n",
    "    \t\\vdots\\\\\n",
    "    \t\\mathcal{T}_m(\\underbrace{\\textbf{x}, \\ldots, \\textbf{x}}_{L \\text{ times}})\\\\\n",
    "\t\\end{array}\n",
    "\\right]\t$$\n",
    "where $\\textbf{f}:\\mathbb{R}^m \\to \\mathbb{R}$ is defined as $\\textbf{f} = (\\underbrace{f, \\ldots, f}_{m \\text{ times}})$ for a nonlinear function $f:\\mathbb{R} \\to \\mathbb{R}$. If one wants to write the hypothesis function in explicit form, then we have that\n",
    "\n",
    "$$h(\\textbf{x}) = \\textbf{f} \\left[\n",
    "\t\\begin{array}{c}\n",
    "   \t\t\\sum_{r=1}^R \\prod_{\\ell=1}^L \\langle \\textbf{w}_r^{(1,\\ell)}, \\textbf{x} \\rangle  \\\\\n",
    "   \t\t\\vdots\\\\\n",
    "   \t\t\\sum_{r=1}^R \\prod_{\\ell=1}^L \\langle \\textbf{w}_r^{(m,\\ell)}, \\textbf{x} \\rangle  \\\\\n",
    "\t\\end{array}\n",
    "\\right] = $$\n",
    "\n",
    "$$ = \\left[\n",
    "\t\\begin{array}{c}\n",
    "   \t\tf\\left( \\sum_{r=1}^R \\sum_{i_1, \\ldots, i_L=1}^n w_{i_1 r}^{(1,1)} \\ldots w_{i_\\ell r}^{(1,L)} x_{i_1} \\ldots x_{i_L} \\right) \\\\\n",
    "   \t\t\\vdots\\\\\n",
    "   \t\tf\\left( \\sum_{r=1}^R \\sum_{i_1, \\ldots, i_L=1}^n w_{i_1 r}^{(m,1)} \\ldots w_{i_\\ell r}^{(m,L)} x_{i_1} \\ldots x_{i_L} \\right) \\\\\n",
    "\t\\end{array}\n",
    "\\right].$$\n",
    "\n",
    "Notice that $rank(\\mathcal{T}_k) \\leq R$ by construction. As is usual in machine learning algorithms, we use the convention $\\textbf{x} = [1, x_2, \\ldots, x_n]^T$, that is, $x_1 = 1$ is the bias of the model. Now let $S = \\{ (i_1, \\ldots, i_L): 1 \\leq i_1, \\ldots, i_L \\leq n, \\ (i_1, \\ldots, i_L) \\neq (1, \\ldots, 1) \\}$, then we can write the above expression as \n",
    "\n",
    "$$ \\left[\n",
    "\t\\begin{array}{c}\n",
    "   \t\tf\\left( b_1 + \\sum_{r=1}^R \\sum_{(i_1, \\ldots, i_L) \\in S} w_{i_1 r}^{(1,1)} \\ldots w_{i_L r}^{(1,L)} x_{i_1} \\ldots x_{i_L} \\right) \\\\\n",
    "   \t\t\\vdots\\\\\n",
    "   \t\tf\\left( b_m + \\sum_{r=1}^R \\sum_{(i_1, \\ldots, i_L) \\in S} w_{i_1 r}^{(m,1)} \\ldots w_{i_L r}^{(m,L)} x_{i_1} \\ldots x_{i_L} \\right) \\\\\n",
    "\t\\end{array}\n",
    "\\right]$$\n",
    "where each $b_k = \\sum_{r=1}^R (w_{1 r}^{(k,1)})^{L}$ is a bias parameter of the model.\n",
    "\n",
    "\n",
    "In a neural network each activation function receives a weighted sum of the form \n",
    "$$\\sum_{j=1}^n w_j x_j,$$\n",
    "whereas in the tensor learning we have multilinear weighted sums of the form \n",
    "\n",
    "$$\\sum_{i_1, \\ldots, i_L=1}^n w_{i_1 r}^{(k,1)} \\ldots w_{i_L r}^{(k,L)} x_{i_1} \\ldots x_{i_L}$$ \n",
    "and just one activation per output. Contrary to the neural network model where we have lots of activations and few direct interactions between the weights (by *direct interactions* we mean multiplications between the weights), in the tensor learning approach we have few activations and lots of direct interactions between the weights, through the multilinearity. Our hope is that this multilinearity compensates the lack of activation functions. We start importing the necessary modules."
   ]
  },
  {
   "cell_type": "code",
   "execution_count": 1,
   "metadata": {},
   "outputs": [],
   "source": [
    "import numpy as np\n",
    "import matplotlib.pyplot as plt\n",
    "import pandas as pd\n",
    "import TensorFox as tfx\n",
    "import TensorFox.TensorLearning as tl"
   ]
  },
  {
   "cell_type": "code",
   "execution_count": 2,
   "metadata": {},
   "outputs": [
    {
     "data": {
      "text/html": [
       "<div>\n",
       "<style scoped>\n",
       "    .dataframe tbody tr th:only-of-type {\n",
       "        vertical-align: middle;\n",
       "    }\n",
       "\n",
       "    .dataframe tbody tr th {\n",
       "        vertical-align: top;\n",
       "    }\n",
       "\n",
       "    .dataframe thead th {\n",
       "        text-align: right;\n",
       "    }\n",
       "</style>\n",
       "<table border=\"1\" class=\"dataframe\">\n",
       "  <thead>\n",
       "    <tr style=\"text-align: right;\">\n",
       "      <th></th>\n",
       "      <th>label</th>\n",
       "      <th>pixel0</th>\n",
       "      <th>pixel1</th>\n",
       "      <th>pixel2</th>\n",
       "      <th>pixel3</th>\n",
       "      <th>pixel4</th>\n",
       "      <th>pixel5</th>\n",
       "      <th>pixel6</th>\n",
       "      <th>pixel7</th>\n",
       "      <th>pixel8</th>\n",
       "      <th>...</th>\n",
       "      <th>pixel774</th>\n",
       "      <th>pixel775</th>\n",
       "      <th>pixel776</th>\n",
       "      <th>pixel777</th>\n",
       "      <th>pixel778</th>\n",
       "      <th>pixel779</th>\n",
       "      <th>pixel780</th>\n",
       "      <th>pixel781</th>\n",
       "      <th>pixel782</th>\n",
       "      <th>pixel783</th>\n",
       "    </tr>\n",
       "  </thead>\n",
       "  <tbody>\n",
       "    <tr>\n",
       "      <th>0</th>\n",
       "      <td>1</td>\n",
       "      <td>0</td>\n",
       "      <td>0</td>\n",
       "      <td>0</td>\n",
       "      <td>0</td>\n",
       "      <td>0</td>\n",
       "      <td>0</td>\n",
       "      <td>0</td>\n",
       "      <td>0</td>\n",
       "      <td>0</td>\n",
       "      <td>...</td>\n",
       "      <td>0</td>\n",
       "      <td>0</td>\n",
       "      <td>0</td>\n",
       "      <td>0</td>\n",
       "      <td>0</td>\n",
       "      <td>0</td>\n",
       "      <td>0</td>\n",
       "      <td>0</td>\n",
       "      <td>0</td>\n",
       "      <td>0</td>\n",
       "    </tr>\n",
       "    <tr>\n",
       "      <th>1</th>\n",
       "      <td>0</td>\n",
       "      <td>0</td>\n",
       "      <td>0</td>\n",
       "      <td>0</td>\n",
       "      <td>0</td>\n",
       "      <td>0</td>\n",
       "      <td>0</td>\n",
       "      <td>0</td>\n",
       "      <td>0</td>\n",
       "      <td>0</td>\n",
       "      <td>...</td>\n",
       "      <td>0</td>\n",
       "      <td>0</td>\n",
       "      <td>0</td>\n",
       "      <td>0</td>\n",
       "      <td>0</td>\n",
       "      <td>0</td>\n",
       "      <td>0</td>\n",
       "      <td>0</td>\n",
       "      <td>0</td>\n",
       "      <td>0</td>\n",
       "    </tr>\n",
       "    <tr>\n",
       "      <th>2</th>\n",
       "      <td>1</td>\n",
       "      <td>0</td>\n",
       "      <td>0</td>\n",
       "      <td>0</td>\n",
       "      <td>0</td>\n",
       "      <td>0</td>\n",
       "      <td>0</td>\n",
       "      <td>0</td>\n",
       "      <td>0</td>\n",
       "      <td>0</td>\n",
       "      <td>...</td>\n",
       "      <td>0</td>\n",
       "      <td>0</td>\n",
       "      <td>0</td>\n",
       "      <td>0</td>\n",
       "      <td>0</td>\n",
       "      <td>0</td>\n",
       "      <td>0</td>\n",
       "      <td>0</td>\n",
       "      <td>0</td>\n",
       "      <td>0</td>\n",
       "    </tr>\n",
       "    <tr>\n",
       "      <th>3</th>\n",
       "      <td>4</td>\n",
       "      <td>0</td>\n",
       "      <td>0</td>\n",
       "      <td>0</td>\n",
       "      <td>0</td>\n",
       "      <td>0</td>\n",
       "      <td>0</td>\n",
       "      <td>0</td>\n",
       "      <td>0</td>\n",
       "      <td>0</td>\n",
       "      <td>...</td>\n",
       "      <td>0</td>\n",
       "      <td>0</td>\n",
       "      <td>0</td>\n",
       "      <td>0</td>\n",
       "      <td>0</td>\n",
       "      <td>0</td>\n",
       "      <td>0</td>\n",
       "      <td>0</td>\n",
       "      <td>0</td>\n",
       "      <td>0</td>\n",
       "    </tr>\n",
       "    <tr>\n",
       "      <th>4</th>\n",
       "      <td>0</td>\n",
       "      <td>0</td>\n",
       "      <td>0</td>\n",
       "      <td>0</td>\n",
       "      <td>0</td>\n",
       "      <td>0</td>\n",
       "      <td>0</td>\n",
       "      <td>0</td>\n",
       "      <td>0</td>\n",
       "      <td>0</td>\n",
       "      <td>...</td>\n",
       "      <td>0</td>\n",
       "      <td>0</td>\n",
       "      <td>0</td>\n",
       "      <td>0</td>\n",
       "      <td>0</td>\n",
       "      <td>0</td>\n",
       "      <td>0</td>\n",
       "      <td>0</td>\n",
       "      <td>0</td>\n",
       "      <td>0</td>\n",
       "    </tr>\n",
       "  </tbody>\n",
       "</table>\n",
       "<p>5 rows × 785 columns</p>\n",
       "</div>"
      ],
      "text/plain": [
       "   label  pixel0  pixel1  pixel2  pixel3  pixel4  pixel5  pixel6  pixel7  \\\n",
       "0      1       0       0       0       0       0       0       0       0   \n",
       "1      0       0       0       0       0       0       0       0       0   \n",
       "2      1       0       0       0       0       0       0       0       0   \n",
       "3      4       0       0       0       0       0       0       0       0   \n",
       "4      0       0       0       0       0       0       0       0       0   \n",
       "\n",
       "   pixel8  ...  pixel774  pixel775  pixel776  pixel777  pixel778  pixel779  \\\n",
       "0       0  ...         0         0         0         0         0         0   \n",
       "1       0  ...         0         0         0         0         0         0   \n",
       "2       0  ...         0         0         0         0         0         0   \n",
       "3       0  ...         0         0         0         0         0         0   \n",
       "4       0  ...         0         0         0         0         0         0   \n",
       "\n",
       "   pixel780  pixel781  pixel782  pixel783  \n",
       "0         0         0         0         0  \n",
       "1         0         0         0         0  \n",
       "2         0         0         0         0  \n",
       "3         0         0         0         0  \n",
       "4         0         0         0         0  \n",
       "\n",
       "[5 rows x 785 columns]"
      ]
     },
     "execution_count": 2,
     "metadata": {},
     "output_type": "execute_result"
    }
   ],
   "source": [
    "# LOAD DATA\n",
    "\n",
    "# Load train dataset (source: https://www.kaggle.com/c/digit-recognizer)\n",
    "\n",
    "data = pd.read_csv('train.csv')\n",
    "data_array = data.values\n",
    "data.head()"
   ]
  },
  {
   "cell_type": "code",
   "execution_count": 3,
   "metadata": {},
   "outputs": [
    {
     "name": "stdout",
     "output_type": "stream",
     "text": [
      "(42000, 784) (42000,)\n",
      "Inputs of class 0 = 4132\n",
      "Inputs of class 1 = 4684\n",
      "Inputs of class 2 = 4177\n",
      "Inputs of class 3 = 4351\n",
      "Inputs of class 4 = 4072\n",
      "Inputs of class 5 = 3795\n",
      "Inputs of class 6 = 4137\n",
      "Inputs of class 7 = 4401\n",
      "Inputs of class 8 = 4063\n",
      "Inputs of class 9 = 4188\n",
      "\n",
      "After fixing number of inputs per class:\n",
      "Inputs of class 0 = 4684\n",
      "Inputs of class 1 = 4684\n",
      "Inputs of class 2 = 4684\n",
      "Inputs of class 3 = 4684\n",
      "Inputs of class 4 = 4684\n",
      "Inputs of class 5 = 4684\n",
      "Inputs of class 6 = 4684\n",
      "Inputs of class 7 = 4684\n",
      "Inputs of class 8 = 4684\n",
      "Inputs of class 9 = 4684\n",
      "(46840, 784) (46840,)\n"
     ]
    }
   ],
   "source": [
    "# PREPROCESSING\n",
    "\n",
    "# The first column are the labels, so we create the input array X and the label array Y accordingly.\n",
    "num_samples, n = data_array.shape[0], data_array.shape[1] - 1\n",
    "X = data_array[:, 1:]\n",
    "Y = data_array[:, 0]\n",
    "\n",
    "# Use data augmentation so we have the same number of members in each class.\n",
    "T, X, Y = tl.data2tens(X, Y, p=0, var_type='int', display=True)\n",
    "    \n",
    "# Shuffle data to avoid bias from ordering.\n",
    "num_samples = X.shape[0]\n",
    "idx = np.arange(num_samples)\n",
    "np.random.shuffle(idx)\n",
    "X = X[idx,:]\n",
    "Y = Y[idx]\n",
    "\n",
    "# Split data in train and validate datasets.\n",
    "X_train = X[:32000, :]\n",
    "Y_train = Y[:32000]\n",
    "X_val = X[32000:, :]\n",
    "Y_val = Y[32000:]\n",
    "\n",
    "# Load test dataset.\n",
    "data = pd.read_csv('test.csv')\n",
    "X_test = data.values"
   ]
  },
  {
   "cell_type": "code",
   "execution_count": 4,
   "metadata": {},
   "outputs": [
    {
     "name": "stdout",
     "output_type": "stream",
     "text": [
<<<<<<< HEAD
      "mean = 33.60118271683673 sigma = 255\n",
=======
      "mean = 33.377603874362244 sigma = 255.0\n",
>>>>>>> 6c0758e191e1a7efe6be896ce1192d16ca4567b0
      "Train dataset dimensions = (32000, 65)\n"
     ]
    }
   ],
   "source": [
    "# Normalize data.\n",
    "X_train, mu, sigma = tl.normalization(X_train, method='mean_normalization')\n",
    "print('mean =', mu, 'sigma =', sigma)\n",
    "\n",
    "# p is the level of precision of the PCA function. The function 'prepare_data' also add a bias input to the train dataset.\n",
    "p = 0.9\n",
    "X_bias, U = tl.prepare_data(X_train, p)\n",
    "\n",
    "# Normalize and make pca with validation dataset.\n",
    "X_val = tl.norm_pca(X_val, U, mu, sigma)\n",
    "\n",
    "# Print the dimensions of the dataset to be used in the training.\n",
    "print('Train dataset dimensions =', X_bias.shape)"
   ]
  },
  {
   "cell_type": "markdown",
   "metadata": {},
   "source": [
    "# Structure of the model\n",
    "\n",
    "It is possible to interpret tensor learning as a neural network (with 2 hidden layers) which relies almost entirely on the classic dot product plus activation function recipe. This interpretation shades more light on what is really happening and why tensor learning may be a valid alternative to the classic neural network. \n",
    "\n",
    "The figure below shows the architecture of such interpretation for $n=3, m=2, L=2, R=2$. The red lines represents classic neural network connections, that is, each line has a weight which is multiplied by the input and summed with all other lines reaching the same neuron. Blue lines means to multiply the inputs by the inputs of all other lines reaching the same neuron. The first layer of lines contains all the weights in our model. The second layer of lines makes the multiplications, and is in this part where we the model is no more the classic one. The third layer of lines are classic neural network connections with all weights equal to 1. Except for the last layer of neurons (the output layer), all other neurons have activation function equals the identity function. In the last layer the activation function is the nonlinear function $f$. We can note that the blue lines are the great novelty in this approach compared to the classic neural network. They represent the part where the weights are mixed together. Also note that this special neural network has *m R L + m R + m* neurons. This usually will be much smaller than any neural network applied to the same problem, because a neural network uses $\\mathcal{O}(n)$ neurons at the first layers, and we almost always have that $m, R, L \\ll n$."
   ]
  },
  {
   "cell_type": "markdown",
   "metadata": {},
   "source": [
    "![neural](neural.png)"
   ]
  },
  {
   "cell_type": "code",
   "execution_count": 5,
   "metadata": {},
   "outputs": [
    {
     "name": "stdout",
     "output_type": "stream",
     "text": [
<<<<<<< HEAD
      "Epoch 1: [=============================================================================== ] 100.0% / acc=23.65%\n",
      "Epoch 2: [=============================================================================== ] 100.0% / acc=24.34%\n",
      "Epoch 3: [=============================================================================== ] 100.0% / acc=29.77%\n",
      "Epoch 4: [=============================================================================== ] 100.0% / acc=28.77%\n",
      "Epoch 5: [=============================================================================== ] 100.0% / acc=32.03%\n",
      "Epoch 6: [=============================================================================== ] 100.0% / acc=36.29%\n",
      "Epoch 7: [=============================================================================== ] 100.0% / acc=46.5%\n",
      "Epoch 8: [=============================================================================== ] 100.0% / acc=56.34%\n",
      "Epoch 9: [=============================================================================== ] 100.0% / acc=68.63%\n",
      "Epoch 10: [=============================================================================== ] 100.0% / acc=76.05%\n",
      "Epoch 11: [=============================================================================== ] 100.0% / acc=83.7%\n",
      "Epoch 12: [=============================================================================== ] 100.0% / acc=91.93%\n",
      "Epoch 13: [=============================================================================== ] 100.0% / acc=95.96%\n",
      "Epoch 14: [=============================================================================== ] 100.0% / acc=96.97%\n",
      "Epoch 15: [=============================================================================== ] 100.0% / acc=97.67%\n",
      "Epoch 16: [=============================================================================== ] 100.0% / acc=98.21%\n",
      "Epoch 17: [=============================================================================== ] 100.0% / acc=98.42%\n",
      "Epoch 18: [=============================================================================== ] 100.0% / acc=98.85%\n",
      "Epoch 19: [=============================================================================== ] 100.0% / acc=99.01%\n",
      "Epoch 20: [=============================================================================== ] 100.0% / acc=99.19%\n",
      "Epoch 21: [=============================================================================== ] 100.0% / acc=99.26%\n",
      "Epoch 22: [=============================================================================== ] 100.0% / acc=99.29%\n",
      "Epoch 23: [=============================================================================== ] 100.0% / acc=99.31%\n",
      "Epoch 24: [=============================================================================== ] 100.0% / acc=99.37%\n",
      "Epoch 25: [=============================================================================== ] 100.0% / acc=99.35%\n",
      "Epoch 26: [=============================================================================== ] 100.0% / acc=99.38%\n",
      "Epoch 27: [=============================================================================== ] 100.0% / acc=99.38%\n",
      "Epoch 28: [=============================================================================== ] 100.0% / acc=99.4%\n",
      "Epoch 29: [=============================================================================== ] 100.0% / acc=99.42%\n",
      "Epoch 30: [=============================================================================== ] 100.0% / acc=99.42%\n",
      "Epoch 31: [=============================================================================== ] 100.0% / acc=99.44%\n",
      "Epoch 32: [=============================================================================== ] 100.0% / acc=99.43%\n",
      "Epoch 33: [=============================================================================== ] 100.0% / acc=99.45%\n",
      "Epoch 34: [=============================================================================== ] 100.0% / acc=99.44%\n",
      "Epoch 35: [=============================================================================== ] 100.0% / acc=99.44%\n",
      "Epoch 36: [=============================================================================== ] 100.0% / acc=99.45%\n",
      "Epoch 37: [=============================================================================== ] 100.0% / acc=99.46%\n",
      "Epoch 38: [=============================================================================== ] 100.0% / acc=99.46%\n",
      "Epoch 39: [=============================================================================== ] 100.0% / acc=99.46%\n",
      "Epoch 40: [=============================================================================== ] 100.0% / acc=99.46%\n",
=======
      "Epoch 1: [==========================================================================================] 100.00%\n",
      "Epoch 2: [==========================================================================================] 100.00%\n",
      "Epoch 3: [==========================================================================================] 100.00%\n",
      "Epoch 4: [==========================================================================================] 100.00%\n",
      "Epoch 5: [==========================================================================================] 100.00%\n",
      "Epoch 6: [==========================================================================================] 100.00%\n",
      "Epoch 7: [==========================================================================================] 100.00%\n",
      "Epoch 8: [==========================================================================================] 100.00%\n",
      "Epoch 9: [==========================================================================================] 100.00%\n",
      "Epoch 10: [==========================================================================================] 100.00%\n",
      "Epoch 11: [==========================================================================================] 100.00%\n",
      "Epoch 12: [==========================================================================================] 100.00%\n",
      "Epoch 13: [==========================================================================================] 100.00%\n",
      "Epoch 14: [==========================================================================================] 100.00%\n",
      "Epoch 15: [==========================================================================================] 100.00%\n",
      "Epoch 16: [==========================================================================================] 100.00%\n",
      "Epoch 17: [==========================================================================================] 100.00%\n",
      "Epoch 18: [==========================================================================================] 100.00%\n",
      "Epoch 19: [==========================================================================================] 100.00%\n",
      "Epoch 20: [==========================================================================================] 100.00%\n",
      "Epoch 21: [==========================================================================================] 100.00%\n",
      "Epoch 22: [==========================================================================================] 100.00%\n",
      "Epoch 23: [==========================================================================================] 100.00%\n",
      "Epoch 24: [==========================================================================================] 100.00%\n",
      "Epoch 25: [==========================================================================================] 100.00%\n",
      "Epoch 26: [==========================================================================================] 100.00%\n",
      "Epoch 27: [==========================================================================================] 100.00%\n",
      "Epoch 28: [==========================================================================================] 100.00%\n",
      "Epoch 29: [==========================================================================================] 100.00%\n",
      "Epoch 30: [==========================================================================================] 100.00%\n",
      "Epoch 31: [==========================================================================================] 100.00%\n",
      "Epoch 32: [==========================================================================================] 100.00%\n",
      "Epoch 33: [==========================================================================================] 100.00%\n",
      "Epoch 34: [==========================================================================================] 100.00%\n",
      "Epoch 35: [==========================================================================================] 100.00%\n",
      "Epoch 36: [==========================================================================================] 100.00%\n",
      "Epoch 37: [==========================================================================================] 100.00%\n",
      "Epoch 38: [==========================================================================================] 100.00%\n",
      "Epoch 39: [==========================================================================================] 100.00%\n",
      "Epoch 40: [==========================================================================================] 100.00%\n",
>>>>>>> 6c0758e191e1a7efe6be896ce1192d16ca4567b0
      "\n",
      "Dimensions of input: 65\n",
      "Dimensions of target: 10\n",
      "Rank: 20\n",
      "Number of factor matrices: 3\n",
      "Number of epochs: 40\n",
      "Number of weights: 2800\n",
<<<<<<< HEAD
      "Accuracy over training dataset: 99.462 %\n",
      "Accuracy over validation dataset: 98.1 %\n",
=======
      "Accuracy over training dataset: 99.434 %\n",
      "Accuracy over validation dataset: 98.08 %\n",
>>>>>>> 6c0758e191e1a7efe6be896ce1192d16ca4567b0
      "\n"
     ]
    },
    {
     "data": {
<<<<<<< HEAD
      "image/png": "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\n",
=======
      "image/png": "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\n",
>>>>>>> 6c0758e191e1a7efe6be896ce1192d16ca4567b0
      "text/plain": [
       "<Figure size 720x288 with 1 Axes>"
      ]
     },
     "metadata": {
      "needs_background": "light"
     },
     "output_type": "display_data"
    },
    {
     "data": {
<<<<<<< HEAD
      "image/png": "iVBORw0KGgoAAAANSUhEUgAAAlMAAAEWCAYAAABCPBKqAAAABHNCSVQICAgIfAhkiAAAAAlwSFlzAAALEgAACxIB0t1+/AAAADh0RVh0U29mdHdhcmUAbWF0cGxvdGxpYiB2ZXJzaW9uMy4xLjAsIGh0dHA6Ly9tYXRwbG90bGliLm9yZy+17YcXAAAgAElEQVR4nO3de7hVZbn38e/NMRTFEkIFFDWsTa+mQlhud4FZ4c7USlNUwJ2KmqRpaZqlveyOZnkotTRLxQNp5Q7L0g5i7le3KXkKzQLFLWmeRVEEhfv9Y8yVU5yLNRfrMOaa6/u5rnGtOcZ45pz3uhsX/hpjrGdEZiJJkqR106fsAiRJknoyw5QkSVIHGKYkSZI6wDAlSZLUAYYpSZKkDjBMSZIkdYBhSlKPEhFHRsRjEbEsIjbuxu/9fET8oLu+T1LPYZiStE4i4oCIuL0Sah6NiF9FxC4d/MzFEbHbWvb3B74NfCAzB2fmUx35vrV8z8SIWFK9LTO/mpmHdsX3SerZDFOS2i0ijgPOBL4KDAc2B84F9urirx4OvAFY0MXfI0l1M0xJapeIGALMAo7KzJ9l5guZ+XJmXpOZx1fGDIyIMyPikcpyZkQMrOwbGhG/iIhnI+LpiLgpIvpExGyKUHZN5WzXCWt87zbA/ZXVZyPi9xExOiIyIvpVjZsXEYdWXh8cEf8dEadHxDMR8WBE7F419k0R8aNKjc9ExH9FxPrAr4DNKnUsi4jNIuJLEXFp1Xv3jIgFld9jXkT8S9W+xRHx2Yi4OyKWRsSPI+INnfu/hKRGYZiS1F7vpjg7dPVaxpwMvAvYHngHMAH4QmXfZ4AlwDCKM02fBzIzpwL/C3y4cgnvtOoPzMy/Am+vrG6UmbvWWe9OFCFsKHAacGFERGXfbGC9yue+GTgjM18AdgceqdQxODMfqf7ASrC7Avh05fe4liIEDqga9nFgMrAlsB1wcJ31SuphDFOS2mtj4MnMfGUtYw4EZmXm45n5BPB/gamVfS8DmwJbVM5o3ZRd+5DQhzLzgsxcBVxc+e7hEbEpRWg6IjOfqdRyY52fuR/wy8z8TWa+DJwODAJ2rhpzdmY+kplPA9dQBEtJTcgwJam9ngKGVl9aq2Ez4KGq9Ycq2wC+CSwEro+IByLixK4p85/+0fIiM1+svBwMjAKezsxn1uEzX/P7ZeZq4GFgRK3vBV6sfKekJmSYktRetwAvAXuvZcwjwBZV65tXtpGZz2fmZzJzK+DDwHER8b7KuPaeoXqh8nO9qm2b1Pneh4E3RcRGNfa1Vcdrfr/KZcNRwN/r/G5JTcQwJaldMnMpcApwTkTsHRHrRUT/iNg9Ilruc7oC+EJEDIuIoZXxlwJExB4R8ZZKAHkOWFVZAB4DtmpHLU9QBJiDIqJvRHwC2LrO9z5KcaP5uRHxxsrv8J6qOjau3Gxfy5XAhyLifZXpGj4DrABurrd2Sc3DMCWp3TLz28BxFDeVP0Fxlmcm8F+VIV8GbgfuBu4B/lTZBjAG+C2wjOIs17mZOa+y72sUIezZiPhsneUcBhxPcfnx7bQv0EyluIfrL8DjFDeUk5l/oQiED1Rq2az6TZl5P3AQ8B3gSYozbB/OzJXt+G5JTSK69r5PSZKk5uaZKUmSpA4wTEmSJHWAYUqSJKkDDFOSJEkdsLZJ97rU0KFDc/To0XWPf+GFF1h//fW7rqAewB4U7IM9AHsA9gDsAdgD6J4ezJ8//8nMHFZrX2lhavTo0dx+++11j583bx4TJ07suoJ6AHtQsA/2AOwB2AOwB2APoHt6EBEPtbbPy3ySJEkdYJiSJEnqAMOUJElSBximJEmSOsAwJUmS1AGGKUmSpA4wTEmSJHVA84apRYvg05+GFSvKrkSSJDWx5g5TZ50Fl15adiWSJKmJNW+Yev/7Yccd4RvfgFWryq5GkiQ1qeYNUxFw0knwt7/Bz35WdjWSJKlJNW+YAvjIR2CbbeBrX4PMsquRJElNqLnDVN++cMIJcMcd8JvflF2NJElqQs0dpgCmToURI4qzU5IkSZ2s+cPUgAHwmc/AvHnwP/9TdjWSJKnJNH+YAjjsMHjTmzw7JUmSOl3vCFODB8OnPgVz58Kf/1x2NZIkqYn0jjAFRZhaf3047bSyK5EkSU2k94SpjTeGGTPg8sth8eKyq5EkSU2i94QpgOOOgz594PTTy65EkiQ1id4VpkaOLKZKuPBCeOyxsquRJElNoHeFKSgm8VyxAs4+u+xKJElSE+h9Yeqtb4WPfQzOOQeee67saiRJUg9XV5iKiMkRcX9ELIyIE2vsPzginoiIOyvLoZ1faic68URYuhTOO6/sSiRJUg/XZpiKiL7AOcDuwFhgSkSMrTH0x5m5fWX5QSfX2bnGjYP3vx/OOAOWLy+7GkmS1IPVc2ZqArAwMx/IzJXAHGCvri2rG5x0UnET+kUXlV2JJEnqwSIz1z4gYh9gcmYeWlmfCuyUmTOrxhwMfA14AvgrcGxmPlzjs2YAMwCGDx8+bs6cOXUXumzZMgYPHlz3+DZlsuNRR9H/2Wf54+zZZN++nffZXaTTe9BD2Qd7APYA7AHYA7AH0D09mDRp0vzMHF9rX7863h81tq2ZwK4BrsjMFRFxBHAxsOvr3pR5PnA+wPjx43PixIl1fH1h3rx5tGd8Xb76VfjIR3jvY4/BAQd07md3gS7pQQ9kH+wB2AOwB2APwB5A+T2o5zLfEmBU1fpI4JHqAZn5VGauqKxeAIzrnPK62J57wtix8PWvQxtn6CRJkmqpJ0zdBoyJiC0jYgCwPzC3ekBEbFq1uidwX+eV2IX69IHPfQ7uuQd++cuyq5EkST1Qm2EqM18BZgLXUYSkKzNzQUTMiog9K8OOjogFEXEXcDRwcFcV3OmmTIHNNy/OTkmSJLVTPfdMkZnXAteuse2UqtcnASd1bmndpH9/+Oxn4eij4aab4N/+reyKJElSD9L7ZkCv5ZBDYNgw+NrXyq5EkiT1MIYpgPXWg2OOgV/9Cu68s+xqJElSD2KYanHUUbDBBt47JUmS2sUw1WKjjeCII+Cqq+COO8quRpIk9RCGqWonnACbbgof+xg880zZ1UiSpB7AMFVt6FD4yU9gyRKYOhVWry67IkmS1OAMU2t617vgzDOLSTy/8pWyq5EkSQ3OMFXLkUfCQQfBqafCddeVXY0kSWpghqlaIuD734dtty0egLx4cdkVSZKkBmWYas1668FPfwqrVsE++8BLL5VdkSRJakCGqbV5y1vgkktg/nz41KfKrkaSJDUgw1Rb9twTPv95+MEP4MILy65GkiQ1GMNUPWbNgt12K2ZJnz+/7GokSVIDMUzVo29fuOIKePObiwk9n3qq7IokSVKDMEzVq2VCz0cfhQMPLG5MlyRJvZ5hqj0mTICzzy7mnpo1q+xqJElSAzBMtdeMGXDwwUWY+uUvy65GkiSVzDDVXhFw7rmw/fbFLOkPPFB2RZIkqUSGqXUxaFAxoScUN6QvX96+969a5SSgkiQ1iX5lF9BjbbUVXHop7LEHHHII7LsvPPtsfctzz0GfPsWZrS98AcaMKfu3kSRJ68gw1REf+hCcckpx/9QVV7x235AhsNFGry5bbvnq6ze+EZ58spgE9LLLilD1xS/C1luX83tIkqR1ZpjqqC99Cfbeu7iXqiUsbbBBMTdVW04+GU47Dc47rzjLNW1acaZqq626vGxJktQ5vGeqoyJghx2KG9JHjy7CVD1BCmCTTeDb34YHHyye/XfFFbDNNsVlwwcf7NKyJUlS5zBMNYJNNoEzzij+MvCoo4pLf9tsA4cdBosXl12dJElaC8NUI9l0UzjrrCJUHXkkzJ5d3Jw+Y4ahSpKkBmWYakSbbVbMtL5oERx+OFx8MWyzDducfjrMmwcvv1x2hZIkqcIw1chGjIDvfrcIVYcdxibXXw+TJsGwYbDffnDJJfDEE2VXKUlSr1ZXmIqIyRFxf0QsjIgT1zJun4jIiBjfeSWKkSPhnHP4fz//OVx9dTGn1U03wfTpMHw4vPvd8OUvw513QmbZ1UqS1Ku0GaYioi9wDrA7MBaYEhFja4zbADgauLWzi1Rh1aBBxTQMF1wAS5bA/PnF1AyrVxfzVO2wA4waVVwanDsXXnih7JIlSWp69ZyZmgAszMwHMnMlMAfYq8a4/wROA3xOSnfo0wd23LGYNPTWW+Ef/4Af/Qje9a5iioW99oKNNy5maF+woOxqJUlqWvWEqRHAw1XrSyrb/ikidgBGZeYvOrE2tcfw4XDwwfCTnxSzq//2t/DJTxZBa9y44ob21avLrlKSpKYT2cY9NhGxL/DBzDy0sj4VmJCZn6qs9wF+DxycmYsjYh7w2cy8vcZnzQBmAAwfPnzcnDlz6i502bJlDB48uO7xzWhdetD/6ad56+mnM/SWW3h6/Hj+8rnPsXLo0C6qsHt4LNgDsAdgD8AegD2A7unBpEmT5mdm7XvCM3OtC/Bu4Lqq9ZOAk6rWhwBPAosry0vAI8D4tX3uuHHjsj1uuOGGdo1vRuvcg9WrM7/3vcxBgzLf9KbMn/60U+vqbh4L9iDTHmTag0x7kGkPMrunB8Dt2Uqmqecy323AmIjYMiIGAPsDc6vC2NLMHJqZozNzNPA/wJ5Z48yUShJR3JR+xx3Fc/8+9rHikTXPP192ZZIk9XhthqnMfAWYCVwH3AdcmZkLImJWROzZ1QWqE731rXDzzcUDli+6qHie4C23lF2VJEk9Wl3zTGXmtZm5TWZunZlfqWw7JTPn1hg70bNSDax//2JOqhtvLG5I32UXOPVUZ1WXJGkdOQN6b7XLLnDXXTB1KsyaVaz/7W9lVyVJUo9jmOrNNtywuNx35ZVFkNp++2JCUGdRlySpboYpFY+nuece2HlnmDEDPvIReMm5VyVJqodhSoURI+C66+Ab34Cf/xwuv7zsiiRJ6hEMU3pVnz5w/PHFX/1dfHHZ1UiS1CMYpvRaETBtGvzhD/Dgg2VXI0lSwzNM6fUOOqgIVbNnl12JJEkNzzCl19t8c5g0CS65xL/skySpDYYp1TZ9OixaVMyYLkmSWmWYUm0f/Sisv743okuS1AbDlGobPLh4IPKVV8Ly5WVXI0lSwzJMqXXTpsHSpTD3dY9glCRJFYYptW7SJBg1qrgRXZIk1WSYUuv69CmmSbjuOvjHP8quRpKkhmSY0tpNmwarVvl4GUmSWmGY0tq97W0wYYJ/1SdJUisMU2rb9Olw991w111lVyJJUsMxTKlt++0H/ft7dkqSpBoMU2rbxhvDhz8Ml10GL79cdjWSJDUUw5TqM20aPP44XH992ZVIktRQDFOqz+67w9ChXuqTJGkNhinVZ8AAmDKlmA39mWfKrkaSpIZhmFL9pk+HFSuK5/VJkiTAMKX22HFHGDvWx8tIklTFMKX6RRRnp26+Gf72t7KrkSSpIRim1D4HHlg8s2/27LIrkSSpIRim1D4jRsBuuxWX+lavLrsaSZJKZ5hS+02fDg89BDfdVHYlkiSVrq4wFRGTI+L+iFgYESfW2H9ERNwTEXdGxH9HxNjOL1UNY++9YYMNnHNKkiTqCFMR0Rc4B9gdGAtMqRGWLs/MbTNze+A04NudXqkax3rrwb77wlVXwYsvll2NJEmlqufM1ARgYWY+kJkrgTnAXtUDMvO5qtX1gey8EtWQpk2DZcvg6qvLrkSSpFJF5tpzT0TsA0zOzEMr61OBnTJz5hrjjgKOAwYAu2bm6/52PiJmADMAhg8fPm7OnDl1F7ps2TIGDx5c9/hm1FA9WL2anQ48kOUjR3L3N7/ZrV/dUH0oiT2wB2APwB6APYDu6cGkSZPmZ+b4mjszc60LsC/wg6r1qcB31jL+AODitj533Lhx2R433HBDu8Y3o4brwRe/mBmRuWRJt35tw/WhBPbAHmTag0x7kGkPMrunB8Dt2Uqmqecy3xJgVNX6SOCRtYyfA+xdx+eqp5s2DTLh0kvLrkSSpNLUE6ZuA8ZExJYRMQDYH5hbPSAixlStfghweuze4C1vgZ13LuacauNysSRJzarNMJWZrwAzgeuA+4ArM3NBRMyKiD0rw2ZGxIKIuJPivqnpXVaxGsv06XDvvTB/ftmVSJJUin71DMrMa4Fr19h2StXrYzq5LvUUH/84HH10cXZqfO378iRJambOgK6O2Wgj2GsvuPxyWLmy7GokSep2hil13PTp8NRTzjklSeqVDFPquA9+sLgZ/dvf9kZ0SVKvY5hSx/XtC8ceC3/8I9x8c9nVSJLUrQxT6hzTp8Mb31icnZIkqRcxTKlzrL8+HHFEcd/UokVlVyNJUrcxTKnzzJwJ/frBWWeVXYkkSd3GMKXOs9lmMGUK/PCH8MwzZVcjSVK3MEypcx13HLzwAlxwQdmVSJLULQxT6lzveAe8731w9tlO4ilJ6hUMU+p8xx0Hf/87XHVV2ZVIktTlDFPqfJMnw9veBt/6lpN4SpKanmFKna9Pn+Ls1B13wI03ll2NJEldyjClrnHQQTBsmJN4SpKanmFKXWPQIPjkJ+Gaa+D++8uuRpKkLmOYUtc58kgYOBDOPLPsSiRJ6jKGKXWd4cOLy30XXwxPPll2NZIkdQnDlLrWscfC8uXwve+VXYkkSV3CMKWu9fa3F1MlfPe7sGJF2dVIktTpDFPqescdB489BldcUXYlkiR1OsOUut5uu8G22xbTJDiJpySpyRim1PUiirNT99wDv/1t2dVIktSpDFPqHlOmwCabOImnJKnpGKbUPQYOhJkz4de/hgULyq5GkqROY5hS9zn88GJm9DPOKLsSSZI6jWFK3WfoUJg+HWbPLv66T5KkJmCYUvc69lhYuRLOPbfsSiRJ6hSGKXWvbbaBD3+4CFPLl5ddjSRJHVZXmIqIyRFxf0QsjIgTa+w/LiLujYi7I+J3EbFF55eqpvGZzxTP6ps9u+xKJEnqsDbDVET0Bc4BdgfGAlMiYuwaw+4AxmfmdsBPgNM6u1A1kfe8B3bcsbgRffXqsquRJKlD6jkzNQFYmJkPZOZKYA6wV/WAzLwhM1+srP4PMLJzy1RTaZnE8y9/gR/9qOxqJEnqkMg2Hu8REfsAkzPz0Mr6VGCnzJzZyvjvAv/IzC/X2DcDmAEwfPjwcXPmzKm70GXLljF48OC6xzejpurBqlW84/jj2fC++7j9/PNZPmpU3W9tqj6sI3tgD8AegD0AewDd04NJkybNz8zxtfb1q+P9UWNbzQQWEQcB44H31tqfmecD5wOMHz8+J06cWMfXF+bNm0d7xjejpuvBNdfAdtux05lnwi23wIABdb2t6fqwDuyBPQB7APYA7AGU34N6LvMtAapPG4wEHllzUETsBpwM7JmZKzqnPDW1ESPghz+EP/0JTj657GokSVon9YSp24AxEbFlRAwA9gfmVg+IiB2A71MEqcc7v0w1rb32giOPhNNPh+uvL7saSZLarc0wlZmvADOB64D7gCszc0FEzIqIPSvDvgkMBq6KiDsjYm4rHye93re+BWPHwrRp8LhZXJLUs9RzzxSZeS1w7RrbTql6vVsn16XeZNAgmDMH3vlO+I//gF/8oviLP0mSegBnQFdj2Hbb4lLftdfCd75TdjWSJNXNMKXGcdRRxaNmjj8e7rqr7GokSaqLYUqNI6L4676NN4YpU+DFF9t+jyRJJTNMqbEMHQqXXFLMjn7ccWVXI0lSmwxTajy77VZc6vv+9+FnPyu7GkmS1sowpcb0n/8J48fDoYfCww+XXY0kSa0yTKkxDRgAl18OK1fC1KmwalXZFUmSVJNhSo1rzBg45xy48Ub4+tfLrkaSpJoMU2ps06YVf9l36qnFw5AlSWowhik1tgg47zwYNQoOOACWLi27IkmSXsMwpcY3ZEhx/9TDDxcPRc4suyJJkv7JMKWe4d3vhi99Ca64gk1+/euyq5Ek6Z8MU+o5TjoJdt2VMWedBQsWlF2NJEmAYUo9Sd++cNllrFpvPfj4x+GFF8quSJIkw5R6mE024b6TT4b77oOZM8uuRpIkw5R6nmfGjYMvfAEuugguvrjsciRJvZxhSj3TqafCe98Ln/wk3Htv2dVIknoxw5R6pr59i+kS1l+/uH/qxRfLrkiS1EsZptRzbbYZXHppcWbq6KPLrkaS1EsZptSzfeAD8PnPw4UXFsFKkqRuZphSz/elL8G//RsccQT85S9lVyNJ6mUMU+r5+vWDK66AQYOK+6eWLy+7IklSL2KYUnMYMQJmz4Z77oFjjim7GklSL2KYUvOYPLl45MwFFxR/6SdJUjcwTKm5zJoFu+wChx8O999fdjWSpF7AMKXm0nL/1MCB3j8lSeoWhik1n5Ej4ZJL4O674dhjy65GktTk6gpTETE5Iu6PiIURcWKN/e+JiD9FxCsRsU/nlym107//O5xwAnz/+zBnTtnVSJKaWJthKiL6AucAuwNjgSkRMXaNYf8LHAx4168ax5e/DDvvDIcdBn/+c9nVSJKaVD1npiYACzPzgcxcCcwB9qoekJmLM/NuYHUX1Citm/79i7NSG2wA738/LFpUdkWSpCYUmbn2AcVlu8mZeWhlfSqwU2bOrDH2IuAXmfmTVj5rBjADYPjw4ePmtOPyy7Jlyxg8eHDd45uRPSi0tw/rPfggO3z607yy3nrcefbZrBg2rAur6x4eC/YA7AHYA7AH0D09mDRp0vzMHF9rX7863h81tq09gbUiM88HzgcYP358Tpw4se73zps3j/aMb0b2oNDuPkycCNtuS/9dd+Xdp5wCf/gD9PBA5bFgD8AegD0AewDl96Cey3xLgFFV6yOBR7qmHKmLjB8Pv/gFLF4MH/wgPPts2RVJkppEPWHqNmBMRGwZEQOA/YG5XVuW1AXe8x742c+Km9H32ANeeKHsiiRJTaDNMJWZrwAzgeuA+4ArM3NBRMyKiD0BIuKdEbEE2Bf4fkQs6MqipXW2++5w2WVwyy3w0Y/CihVlVyRJ6uHquWeKzLwWuHaNbadUvb6N4vKf1Pj23Reefx4OOQQOOAB+/ONi5nRJktaBM6Crd/rEJ+DMM4vLfoceCqud1UOStG78v+PqvY45BpYuhVNPLeaiOvtsiFp/vCpJUusMU+rdvvhFeO45+Na3YMiQYtZ0SZLawTCl3i0CvvnNIlB95StFoDr++LKrkiT1IIYpKQLOO68IVCecABtuCIcfXnZVkqQewjAlAfTtC7Nnw7JlcOSRxT1UBxxQdlWSpB7Av+aTWvTvD1ddBe99L0ybBueeC208u1KSJMOUVG3QIJg7t3jkzFFHwYEHFmerJElqhWFKWtMGG8A118BXv1pM6DlhAtx7b9lVSZIalGFKqqVPHzjpJPjNb+Cpp+Cd74TLLy+7KklSAzJMSWuz665wxx2w447FJb+jjvJ5fpKk1zBMSW3ZbDP4/e+L+afOPRd22QUWLy67KklSgzBMSfXo3x9OOw2uvhr++tfiTNUvf1l2VZKkBmCYktpj773hT3+CLbaAPfaAk0+GV14puypJUokMU1J7bb013HwzHHpo8Rd/H/gAPPZY2VVJkkpimJLWxaBBcMEF8KMfwS23wA47wE03lV2VJKkEhimpIw4+GG69FdZfv5g5fdtt4ROfgO99D+bPh5Ury65QktTFfDaf1FHbbQe33w5nn12cpbrmmuKMFcDAgfCOdxQTf77zncXy1rcW81hJkpqCYUrqDEOGwBe/WLzOhIcegj/+EW67rVguugi++91i/wYbwLhxRcAaP74IV1ttBYMHl1a+JGndGaakzhYBo0cXy8c/XmxbtQruv78IVi0h68wzX3sZcPjw4ub2WsuwYcXnSpIajmFK6g59+8LYscUyfXqxbcWK4pl/CxcWy6JFxTJvHlx6aXGGq8XgwcXZq0q42mzlyuIBzFtsAZtvXpwZkySVwjAllWXgwOKvAHfY4fX7XnqpmGW9JWC1LPfdB9deyzYrVhT3aLUYMqQIVi3L5pu/dn34cM9sSVIXMUxJjegNb4C3va1Y1rR6NTdffTU7jxxZ3JtVvSxeDDfeCM8999r3DBgAG21UhK4NN3ztz1rbWn5utNGry6BBBjJJqsEwJfU0ffqwcuONYaediqWWpUtfG7IefhiefbYIWUuXFj8XLnztevVlxVr6939tuKq1DBlS3GC/wQbFpcmWn9WvBw7s/J5IUokMU1IzGjKkmLJhu+3qG59Z3INVHa6WLi2WZ59tfVmy5NXXy5fX9139+78+YLUEsLaWDTf85+v+Tz9d1DdwYLF41kxSSQxTkoog0hJYRoxYt89YsaIIN88/XwSzlp+tva7++fzz8Pjjr75+/vk2Jzz91zU3tISqN7zh1Z/VrwcOLIJc//7Qr99rf9baVv2zZVlzvbXtLZ/ZnqVfv2L+sT59DIZSD2OYktQ5Bg6EN7+5WDrDihWvDVdrLH+9+2622XzzYtxLL736s/p19bbly4szbi+/XDycup6fq1Z1zu/SXi2hqm/fYmnl9bteeaW4l61l35pja623LP36tf26Zb2lno4sEW1vj2j3Muzee+GJJ4q+Ve9b23prNdWqsWVbW59Z63Wt36+tbevQgz4tx3c949UlDFOSGlPLmaahQ2vufmTePLaZOLFra8gsAlVLwKq1rLnv5Zfbv6xcCatXF9+1alXrr9dYf+bvf2fTN7+59bG1tr38chEuV60q6m3ZvrbXmcXntLW0dd9dF3h7t39j43lPe9/QWsiqN8CtbWytfS3bWvvZ1r46guwme+wBXf3vwVrUFaYiYjJwFtAX+EFmfn2N/QOBS4BxwFPAfpm5uHNLlaRuFvHqpbsGdP+8eWxa4n9AXifz1QBaK4C1Fsqq39PO5Y+33sqECRNeu726llrr1XXUW+faPrO11y2fU+v7WqthHXqwaNEitt5yy3V6b6v9WZextfa1bGvtZ1v72lqvvH655Ln22vwXIiL6AucA7weWALdFxNzMvLdq2CHAM5n5lojYH/gGsF9XFCxJalDVl9G6yYuPPw5v793npx6eN4+tGylUl+CpefNK/f56jvgJwMLMfCAzVwJzgL3WGLMXcHHl9U+A90V4cVaSJDW/yDaucUfEPsDkzDy0sj4V2CkzZ1aN+XNlzJLK+qLKmCfX+KwZwAyA4TZ2+ekAAAdKSURBVMOHj5szZ07dhS5btozBvfxBsPagYB/sAdgDsAdgD8AeQPf0YNKkSfMzc3ytffXcCFDrDNOaCayeMWTm+cD5AOPHj8+J7TgtOW/ePNozvhnZg4J9sAdgD8AegD0AewDl96Cey3xLgFFV6yOBR1obExH9gCHA051RoCRJUiOrJ0zdBoyJiC0jYgCwPzB3jTFzgemV1/sAv8+2rh9KkiQ1gTYv82XmKxExE7iOYmqEH2bmgoiYBdyemXOBC4HZEbGQ4ozU/l1ZtCRJUqOoa/KUzLwWuHaNbadUvX4J2LdzS5MkSWp83TcZiCRJUhNqc2qELvviiCeAh9rxlqHAk22Oam72oGAf7AHYA7AHYA/AHkD39GCLzBxWa0dpYaq9IuL21uZ36C3sQcE+2AOwB2APwB6APYDye+BlPkmSpA4wTEmSJHVATwpT55ddQAOwBwX7YA/AHoA9AHsA9gBK7kGPuWdKkiSpEfWkM1OSJEkNxzAlSZLUAT0iTEXE5Ii4PyIWRsSJZddThohYHBH3RMSdEXF72fV0h4j4YUQ8HhF/rtr2poj4TUT8rfLzjWXW2NVa6cGXIuLvlWPhzoj49zJr7GoRMSoiboiI+yJiQUQcU9nea46FtfSg1xwLEfGGiPhjRNxV6cH/rWzfMiJurRwHP648Q7YpraUHF0XEg1XHwfZl19rVIqJvRNwREb+orJd6HDR8mIqIvsA5wO7AWGBKRIwtt6rSTMrM7XvRfCIXAZPX2HYi8LvMHAP8rrLezC7i9T0AOKNyLGxfedxTM3sF+Exm/gvwLuCoyr8BvelYaK0H0HuOhRXArpn5DmB7YHJEvAv4BkUPxgDPAIeUWGNXa60HAMdXHQd3llditzkGuK9qvdTjoOHDFDABWJiZD2TmSmAOsFfJNakbZOYfKB6cXW0v4OLK64uBvbu1qG7WSg96lcx8NDP/VHn9PMU/oCPoRcfCWnrQa2RhWWW1f2VJYFfgJ5XtzX4ctNaDXiUiRgIfAn5QWQ9KPg56QpgaATxctb6EXvaPSEUC10fE/IiYUXYxJRqemY9C8R8Y4M0l11OWmRFxd+UyYNNe3lpTRIwGdgBupZceC2v0AHrRsVC5tHMn8DjwG2AR8GxmvlIZ0vT/fVizB5nZchx8pXIcnBERA0sssTucCZwArK6sb0zJx0FPCFNRY1uvS+LAv2bmjhSXO4+KiPeUXZBKcx6wNcVp/keBb5VbTveIiMHAT4FPZ+ZzZddThho96FXHQmauysztgZEUVy3+pdaw7q2qe63Zg4j4P8BJwNuAdwJvAj5XYoldKiL2AB7PzPnVm2sM7dbjoCeEqSXAqKr1kcAjJdVSmsx8pPLzceBqin9IeqPHImJTgMrPx0uup9tl5mOVf1BXAxfQC46FiOhPESIuy8yfVTb3qmOhVg9647EAkJnPAvMo7h/bKCL6VXb1mv8+VPVgcuUycGbmCuBHNPdx8K/AnhGxmOK2n10pzlSVehz0hDB1GzCmcqf+AGB/YG7JNXWriFg/IjZoeQ18APjz2t/VtOYC0yuvpwM/L7GWUrQEiIqP0OTHQuV+iAuB+zLz21W7es2x0FoPetOxEBHDImKjyutBwG4U947dAOxTGdbsx0GtHvyl6v9UBMW9Qk17HGTmSZk5MjNHU+SB32fmgZR8HPSIGdArf+57JtAX+GFmfqXkkrpVRGxFcTYKoB9weW/oQURcAUwEhgKPAacC/wVcCWwO/C+wb2Y27Q3arfRgIsVlnQQWA4e33DvUjCJiF+Am4B5evUfi8xT3DPWKY2EtPZhCLzkWImI7ihuL+1KcCLgyM2dV/n2cQ3F56w7goMoZmqazlh78HhhGcbnrTuCIqhvVm1ZETAQ+m5l7lH0c9IgwJUmS1Kh6wmU+SZKkhmWYkiRJ6gDDlCRJUgcYpiRJkjrAMCVJktQBhilJDSkiVkXEnVVLpz3IOCJGR0TTzsUjqXv1a3uIJJVieeWxGZLU0DwzJalHiYjFEfGNiPhjZXlLZfsWEfG7ysNefxcRm1e2D4+IqyPirsqyc+Wj+kbEBRGxICKur8woLUntZpiS1KgGrXGZb7+qfc9l5gTguxRPR6Dy+pLM3A64DDi7sv1s4MbMfAewI7Cgsn0McE5mvh14FvhYF/8+kpqUM6BLakgRsSwzB9fYvhjYNTMfqDz89x+ZuXFEPAlsmpkvV7Y/mplDI+IJYGT1oyUiYjTwm8wcU1n/HNA/M7/c9b+ZpGbjmSlJPVG28rq1MbVUP7drFd5DKmkdGaYk9UT7Vf28pfL6ZoqnyAMcCPx35fXvgCMBIqJvRGzYXUVK6h38f2KSGtWgiLizav3XmdkyPcLAiLiV4v8QTqlsOxr4YUQcDzwB/Edl+zHA+RFxCMUZqCOBR7u8ekm9hvdMSepRKvdMjc/MJ8uuRZLAy3ySJEkd4pkpSZKkDvDMlCRJUgcYpiRJkjrAMCVJktQBhilJkqQOMExJkiR1wP8HGzvrE2uxPLUAAAAASUVORK5CYII=\n",
=======
      "image/png": "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\n",
>>>>>>> 6c0758e191e1a7efe6be896ce1192d16ca4567b0
      "text/plain": [
       "<Figure size 720x288 with 1 Axes>"
      ]
     },
     "metadata": {
      "needs_background": "light"
     },
     "output_type": "display_data"
    },
    {
     "name": "stdout",
     "output_type": "stream",
     "text": [
<<<<<<< HEAD
      "Accuracy over entire dataset = 98.99 %\n",
=======
      "Accuracy over entire dataset = 99.031 %\n",
>>>>>>> 6c0758e191e1a7efe6be896ce1192d16ca4567b0
      "===============================================\n",
      "\n"
     ]
    }
   ],
   "source": [
    "# TRAINING\n",
    "\n",
    "# The parameters used below were obtained after a hyperparameter grid search. \n",
    "\n",
    "# Number of factor matrices (order of the tensors)\n",
    "L = 3\n",
    "# Rank\n",
    "R = 20\n",
    "# Learning rate parameter\n",
    "alpha = 0.03\n",
    "# Learning decay parameter\n",
    "alpha_decay = 0.95\n",
    "# Regularization parameter\n",
    "Lambda = 0.0003\n",
    "# Number of epochs\n",
    "epochs = 40\n",
    "# Batch size\n",
    "batch = 1\n",
    "\n",
    "# Initialize weights\n",
    "m = int(max(Y)) + 1\n",
    "n = X_bias.shape[1]\n",
    "W = tl.init_W(m, L, n, R)\n",
    "\n",
    "# Train model\n",
    "W, accuracy, accuracy_val, cost_function, success = tl.cpd_train(X_bias, Y, X_val, Y_val, W, \n",
    "                                                                 alpha=alpha, alpha_decay=alpha_decay, \n",
    "                                                                 Lambda=Lambda, \n",
    "                                                                 epochs=epochs, batch=batch, \n",
    "                                                                 display=True)\n",
    "\n",
    "accuracy_dataset = tl.cpd_test(X, Y, W, U, mu=mu, sigma=sigma)\n",
    "print('Accuracy over entire dataset =', np.round(accuracy_dataset, 3), '%')\n",
    "print('===============================================')\n",
    "print()"
   ]
  },
  {
   "cell_type": "markdown",
   "metadata": {},
   "source": [
    "Our final task now is to use our model to make predictions over the test dataset and then save these predictions in a csv file. Note that the function **cpd_predictions** must receive the parameters *U, mu* and *sigma*, so that the test dataset is normalized and the correct PCA is performed before the predictions are made."
   ]
  },
  {
   "cell_type": "code",
   "execution_count": 6,
   "metadata": {},
   "outputs": [
    {
     "name": "stdout",
     "output_type": "stream",
     "text": [
      "   ImageId  Label\n",
      "0        1      2\n",
      "1        2      0\n",
      "2        3      9\n",
      "3        4      9\n",
      "4        5      3\n"
     ]
    }
   ],
   "source": [
    "# Make predictions and save them in a csv file.\n",
    "predictions = tl.cpd_predictions(X_test, W, U, mu=mu, sigma=sigma)\n",
    "submission = pd.read_csv('sample_submission.csv')\n",
    "submission[\"Label\"] = predictions\n",
    "submission.to_csv('cpd_submission.csv', index=False)\n",
    "print(submission.head())"
   ]
  },
  {
   "cell_type": "markdown",
   "metadata": {},
   "source": [
    "With this approach we could achieve a score of $0.978$ ($97.8 \\%$ of accuracy) in the Kaggle's competition [digit recognizer](https://www.kaggle.com/c/digit-recognizer)."
   ]
  },
  {
   "cell_type": "markdown",
   "metadata": {},
   "source": [
    "# Using the CPD to simplify the model\n",
    "\n",
    "After we have a set of weights, we may wonder if there are redundant weights. One way to simplify the model is to approximate each tensor $\\mathcal{T}_k$ by another with rank lower than the current one, which is $R = 20$. We use the function **simplify_model** to obtain a simplified model. Let's see the error of the CPD approximations for the ranks $r=1 \\ldots 20$."
   ]
  },
  {
   "cell_type": "code",
   "execution_count": 7,
   "metadata": {
    "scrolled": false
   },
   "outputs": [
    {
     "name": "stdout",
     "output_type": "stream",
     "text": [
      "Testing rank = 1\n",
      "Testing rank = 2\n",
      "Testing rank = 3\n",
      "Testing rank = 4\n",
      "Testing rank = 5\n",
      "Testing rank = 6\n",
      "Testing rank = 7\n",
      "Testing rank = 8\n",
      "Testing rank = 9\n",
      "Testing rank = 10\n",
      "Testing rank = 11\n",
      "Testing rank = 12\n",
      "Testing rank = 13\n",
      "Testing rank = 14\n",
      "Testing rank = 15\n",
      "Testing rank = 16\n",
      "Testing rank = 17\n",
      "Testing rank = 18\n",
      "Testing rank = 19\n",
      "Testing rank = 20\n"
     ]
    },
    {
     "data": {
<<<<<<< HEAD
      "image/png": "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\n",
=======
      "image/png": "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\n",
>>>>>>> 6c0758e191e1a7efe6be896ce1192d16ca4567b0
      "text/plain": [
       "<Figure size 432x288 with 1 Axes>"
      ]
     },
     "metadata": {
      "needs_background": "light"
     },
     "output_type": "display_data"
    }
   ],
   "source": [
    "# We try to find a CPD with rank less than 20 for the tensors. \n",
    "# options=False means we are using default parameters for the cpd function.\n",
    "\n",
    "# Initialize variables.\n",
    "best_of = 3\n",
    "dims = L*(X_bias.shape[1], )\n",
    "T_approx = np.zeros(dims)\n",
    "ranks = range(1, 21)\n",
    "errors = []\n",
    "\n",
    "class options:\n",
    "    inner_method = 'cg_static'\n",
    "\n",
    "for r in ranks:\n",
    "    print('Testing rank =', r)\n",
    "    # Try to compute the CPD a few times.\n",
    "    best_new_errors = np.inf\n",
    "    for i in range(best_of):\n",
    "        new_W, new_errors = tl.simplify_model(W, r, options)\n",
    "        new_errors = np.array(new_errors).mean()\n",
    "        if new_errors < best_new_errors:\n",
    "            best_new_errors = new_errors\n",
    "    errors.append(best_new_errors)\n",
    "        \n",
    "# Plot results.\n",
    "plt.plot(ranks, errors, 'b--')\n",
    "plt.plot(ranks, errors, 'bs')\n",
    "plt.title('CPD errors')\n",
    "plt.xlabel('Rank')\n",
    "plt.ylabel('Error')\n",
    "plt.yscale('log')\n",
    "plt.grid()\n",
    "plt.show()"
   ]
  },
  {
   "cell_type": "markdown",
   "metadata": {},
   "source": [
    "Based on the figure above we choose to use $R = 18$, which is the first rank with error less than $10^{-2}$. To obtain a reasonable set of CPDs approximations we repeat the call to **simplify_model** a few times and keep the best result."
   ]
  },
  {
   "cell_type": "code",
   "execution_count": 8,
   "metadata": {},
   "outputs": [
    {
     "name": "stdout",
     "output_type": "stream",
     "text": [
<<<<<<< HEAD
      "0.0014870479345794013\n"
=======
      "0.005712239612905154\n"
>>>>>>> 6c0758e191e1a7efe6be896ce1192d16ca4567b0
     ]
    }
   ],
   "source": [
    "R = 18\n",
    "best_of = 15\n",
    "best_new_errors = np.inf\n",
    "for i in range(best_of):\n",
    "    new_W, new_errors = tl.simplify_model(W, R, options)\n",
    "    new_errors = np.array(new_errors).mean()\n",
    "    if new_errors < best_new_errors:\n",
    "        best_new_W = new_W.copy()\n",
    "        best_new_errors = new_errors\n",
    "print(best_new_errors)"
   ]
  },
  {
   "cell_type": "code",
<<<<<<< HEAD
   "execution_count": 9,
=======
   "execution_count": 10,
>>>>>>> 6c0758e191e1a7efe6be896ce1192d16ca4567b0
   "metadata": {},
   "outputs": [
    {
     "name": "stdout",
     "output_type": "stream",
     "text": [
      "   ImageId  Label\n",
      "0        1      2\n",
      "1        2      0\n",
      "2        3      9\n",
      "3        4      9\n",
      "4        5      2\n"
     ]
    }
   ],
   "source": [
    "# Make predictions and save them in a csv file.\n",
    "predictions = tl.cpd_predictions(X_test, best_new_W, U, mu=mu, sigma=sigma)\n",
    "submission = pd.read_csv('sample_submission.csv')\n",
    "submission[\"Label\"] = predictions\n",
    "submission.to_csv('cpd_submission.csv', index=False)\n",
    "print(submission.head())"
   ]
  },
  {
   "cell_type": "markdown",
   "metadata": {},
   "source": [
<<<<<<< HEAD
    "With this approach we could achieve a score of $0.97789$ in the Kaggle's competition. Therefore it is possible to simplify the model and still mantain (almost) the same accuracy. In this case the original model (for $R = 20$) had $10 \\times 3 \\times 65 \\times 20 = 39000$ parameters, whereas the simplified model ($R = 18$) have $10 \\times 3 \\times 65 \\times 18 = 35100$ parameters."
=======
    "With this approach we could achieve a score of $0.97628$ in the Kaggle's competition. Therefore it is possible to simplify the model and still mantain (almost) the same accuracy. In this case the original model (for $R = 20$) had $10 \\times 3 \\times 65 \\times 20 = 39000$ parameters, whereas the simplified model ($R = 17$) have $10 \\times 3 \\times 65 \\times 18 = 35100$ parameters."
>>>>>>> 6c0758e191e1a7efe6be896ce1192d16ca4567b0
   ]
  }
 ],
 "metadata": {
  "kernelspec": {
   "display_name": "Python 3",
   "language": "python",
   "name": "python3"
  },
  "language_info": {
   "codemirror_mode": {
    "name": "ipython",
    "version": 3
   },
   "file_extension": ".py",
   "mimetype": "text/x-python",
   "name": "python",
   "nbconvert_exporter": "python",
   "pygments_lexer": "ipython3",
   "version": "3.7.3"
  }
 },
 "nbformat": 4,
 "nbformat_minor": 2
}
