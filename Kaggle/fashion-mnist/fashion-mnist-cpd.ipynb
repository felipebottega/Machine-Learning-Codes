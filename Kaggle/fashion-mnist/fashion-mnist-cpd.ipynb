{
 "cells": [
  {
   "cell_type": "code",
   "execution_count": 1,
   "metadata": {},
   "outputs": [],
   "source": [
    "import numpy as np\n",
    "import matplotlib.pyplot as plt\n",
    "import pandas as pd\n",
    "import TensorLearning as tl"
   ]
  },
  {
   "cell_type": "code",
   "execution_count": 2,
   "metadata": {},
   "outputs": [
    {
     "data": {
      "text/html": [
       "<div>\n",
       "<style scoped>\n",
       "    .dataframe tbody tr th:only-of-type {\n",
       "        vertical-align: middle;\n",
       "    }\n",
       "\n",
       "    .dataframe tbody tr th {\n",
       "        vertical-align: top;\n",
       "    }\n",
       "\n",
       "    .dataframe thead th {\n",
       "        text-align: right;\n",
       "    }\n",
       "</style>\n",
       "<table border=\"1\" class=\"dataframe\">\n",
       "  <thead>\n",
       "    <tr style=\"text-align: right;\">\n",
       "      <th></th>\n",
       "      <th>label</th>\n",
       "      <th>pixel1</th>\n",
       "      <th>pixel2</th>\n",
       "      <th>pixel3</th>\n",
       "      <th>pixel4</th>\n",
       "      <th>pixel5</th>\n",
       "      <th>pixel6</th>\n",
       "      <th>pixel7</th>\n",
       "      <th>pixel8</th>\n",
       "      <th>pixel9</th>\n",
       "      <th>...</th>\n",
       "      <th>pixel775</th>\n",
       "      <th>pixel776</th>\n",
       "      <th>pixel777</th>\n",
       "      <th>pixel778</th>\n",
       "      <th>pixel779</th>\n",
       "      <th>pixel780</th>\n",
       "      <th>pixel781</th>\n",
       "      <th>pixel782</th>\n",
       "      <th>pixel783</th>\n",
       "      <th>pixel784</th>\n",
       "    </tr>\n",
       "  </thead>\n",
       "  <tbody>\n",
       "    <tr>\n",
       "      <th>0</th>\n",
       "      <td>2</td>\n",
       "      <td>0</td>\n",
       "      <td>0</td>\n",
       "      <td>0</td>\n",
       "      <td>0</td>\n",
       "      <td>0</td>\n",
       "      <td>0</td>\n",
       "      <td>0</td>\n",
       "      <td>0</td>\n",
       "      <td>0</td>\n",
       "      <td>...</td>\n",
       "      <td>0</td>\n",
       "      <td>0</td>\n",
       "      <td>0</td>\n",
       "      <td>0</td>\n",
       "      <td>0</td>\n",
       "      <td>0</td>\n",
       "      <td>0</td>\n",
       "      <td>0</td>\n",
       "      <td>0</td>\n",
       "      <td>0</td>\n",
       "    </tr>\n",
       "    <tr>\n",
       "      <th>1</th>\n",
       "      <td>9</td>\n",
       "      <td>0</td>\n",
       "      <td>0</td>\n",
       "      <td>0</td>\n",
       "      <td>0</td>\n",
       "      <td>0</td>\n",
       "      <td>0</td>\n",
       "      <td>0</td>\n",
       "      <td>0</td>\n",
       "      <td>0</td>\n",
       "      <td>...</td>\n",
       "      <td>0</td>\n",
       "      <td>0</td>\n",
       "      <td>0</td>\n",
       "      <td>0</td>\n",
       "      <td>0</td>\n",
       "      <td>0</td>\n",
       "      <td>0</td>\n",
       "      <td>0</td>\n",
       "      <td>0</td>\n",
       "      <td>0</td>\n",
       "    </tr>\n",
       "    <tr>\n",
       "      <th>2</th>\n",
       "      <td>6</td>\n",
       "      <td>0</td>\n",
       "      <td>0</td>\n",
       "      <td>0</td>\n",
       "      <td>0</td>\n",
       "      <td>0</td>\n",
       "      <td>0</td>\n",
       "      <td>0</td>\n",
       "      <td>5</td>\n",
       "      <td>0</td>\n",
       "      <td>...</td>\n",
       "      <td>0</td>\n",
       "      <td>0</td>\n",
       "      <td>0</td>\n",
       "      <td>30</td>\n",
       "      <td>43</td>\n",
       "      <td>0</td>\n",
       "      <td>0</td>\n",
       "      <td>0</td>\n",
       "      <td>0</td>\n",
       "      <td>0</td>\n",
       "    </tr>\n",
       "    <tr>\n",
       "      <th>3</th>\n",
       "      <td>0</td>\n",
       "      <td>0</td>\n",
       "      <td>0</td>\n",
       "      <td>0</td>\n",
       "      <td>1</td>\n",
       "      <td>2</td>\n",
       "      <td>0</td>\n",
       "      <td>0</td>\n",
       "      <td>0</td>\n",
       "      <td>0</td>\n",
       "      <td>...</td>\n",
       "      <td>3</td>\n",
       "      <td>0</td>\n",
       "      <td>0</td>\n",
       "      <td>0</td>\n",
       "      <td>0</td>\n",
       "      <td>1</td>\n",
       "      <td>0</td>\n",
       "      <td>0</td>\n",
       "      <td>0</td>\n",
       "      <td>0</td>\n",
       "    </tr>\n",
       "    <tr>\n",
       "      <th>4</th>\n",
       "      <td>3</td>\n",
       "      <td>0</td>\n",
       "      <td>0</td>\n",
       "      <td>0</td>\n",
       "      <td>0</td>\n",
       "      <td>0</td>\n",
       "      <td>0</td>\n",
       "      <td>0</td>\n",
       "      <td>0</td>\n",
       "      <td>0</td>\n",
       "      <td>...</td>\n",
       "      <td>0</td>\n",
       "      <td>0</td>\n",
       "      <td>0</td>\n",
       "      <td>0</td>\n",
       "      <td>0</td>\n",
       "      <td>0</td>\n",
       "      <td>0</td>\n",
       "      <td>0</td>\n",
       "      <td>0</td>\n",
       "      <td>0</td>\n",
       "    </tr>\n",
       "  </tbody>\n",
       "</table>\n",
       "<p>5 rows × 785 columns</p>\n",
       "</div>"
      ],
      "text/plain": [
       "   label  pixel1  pixel2  pixel3  pixel4  pixel5  pixel6  pixel7  pixel8  \\\n",
       "0      2       0       0       0       0       0       0       0       0   \n",
       "1      9       0       0       0       0       0       0       0       0   \n",
       "2      6       0       0       0       0       0       0       0       5   \n",
       "3      0       0       0       0       1       2       0       0       0   \n",
       "4      3       0       0       0       0       0       0       0       0   \n",
       "\n",
       "   pixel9  ...  pixel775  pixel776  pixel777  pixel778  pixel779  pixel780  \\\n",
       "0       0  ...         0         0         0         0         0         0   \n",
       "1       0  ...         0         0         0         0         0         0   \n",
       "2       0  ...         0         0         0        30        43         0   \n",
       "3       0  ...         3         0         0         0         0         1   \n",
       "4       0  ...         0         0         0         0         0         0   \n",
       "\n",
       "   pixel781  pixel782  pixel783  pixel784  \n",
       "0         0         0         0         0  \n",
       "1         0         0         0         0  \n",
       "2         0         0         0         0  \n",
       "3         0         0         0         0  \n",
       "4         0         0         0         0  \n",
       "\n",
       "[5 rows x 785 columns]"
      ]
     },
     "execution_count": 2,
     "metadata": {},
     "output_type": "execute_result"
    }
   ],
   "source": [
    "df = pd.read_csv(\"fashion-mnist_train.csv\")\n",
    "df.head()"
   ]
  },
  {
   "cell_type": "code",
   "execution_count": 3,
   "metadata": {},
   "outputs": [
    {
     "name": "stdout",
     "output_type": "stream",
     "text": [
      "X = [[0 0 0 ... 0 0 0]\n",
      " [0 0 0 ... 0 0 0]\n",
      " [0 0 0 ... 0 0 0]\n",
      " ...\n",
      " [0 0 0 ... 0 0 0]\n",
      " [0 0 0 ... 0 0 0]\n",
      " [0 0 0 ... 0 0 0]]\n",
      "\n",
      "Y = [2 9 6 ... 8 8 7]\n"
     ]
    }
   ],
   "source": [
    "Y = (df.values)[:, 0]\n",
    "X = (df.values)[:, 1:]\n",
    "print('X =', X)\n",
    "print()\n",
    "print('Y =', Y)"
   ]
  },
  {
   "cell_type": "code",
   "execution_count": 4,
   "metadata": {},
   "outputs": [
    {
     "name": "stdout",
     "output_type": "stream",
     "text": [
      "(60000, 784) (60000,)\n"
     ]
    }
   ],
   "source": [
    "print(X.shape, Y.shape)"
   ]
  },
  {
   "cell_type": "code",
   "execution_count": 5,
   "metadata": {},
   "outputs": [],
   "source": [
    "# Shuffle data to avoid bias from ordering.\n",
    "num_samples = X.shape[0]\n",
    "idx = np.arange(num_samples)\n",
    "np.random.shuffle(idx)\n",
    "X = X[idx,:]\n",
    "Y = Y[idx]"
   ]
  },
  {
   "cell_type": "code",
   "execution_count": 6,
   "metadata": {},
   "outputs": [],
   "source": [
    "# Split data in train and validate datasets.\n",
    "X_train = X[:50000, :]\n",
    "Y_train = Y[:50000]\n",
    "X_val = X[50000:, :]\n",
    "Y_val = Y[50000:]"
   ]
  },
  {
   "cell_type": "code",
   "execution_count": 7,
   "metadata": {},
   "outputs": [],
   "source": [
    "# Load test dataset.\n",
    "df_test = pd.read_csv(\"fashion-mnist_test.csv\")\n",
    "Y_test = (df_test.values)[:, 0]\n",
    "X_test = (df_test.values)[:, 1:]"
   ]
  },
  {
   "cell_type": "code",
   "execution_count": 8,
   "metadata": {},
   "outputs": [
    {
     "name": "stdout",
     "output_type": "stream",
     "text": [
      "mean = 72.97432102040817 sigma = 255\n"
     ]
    }
   ],
   "source": [
    "# Normalize data.\n",
    "X_train, mu, sigma = tl.normalization(X_train, method='mean_normalization')\n",
    "print('mean =', mu, 'sigma =', sigma)"
   ]
  },
  {
   "cell_type": "code",
   "execution_count": 9,
   "metadata": {},
   "outputs": [
    {
     "name": "stdout",
     "output_type": "stream",
     "text": [
      "Train dataset dimensions = (50000, 655)\n"
     ]
    }
   ],
   "source": [
    "# p is the level of precision of the PCA function. The function 'prepare_data' also add a bias input to \n",
    "# the train dataset.\n",
    "p = 0.999\n",
    "X_bias, U = tl.prepare_data(X_train, p)\n",
    "\n",
    "# Normalize and make pca with validation dataset.\n",
    "X_val = tl.norm_pca(X_val, U, mu, sigma)\n",
    "\n",
    "# Print the dimensions of the dataset to be used in the training.\n",
    "print('Train dataset dimensions =', X_bias.shape)"
   ]
  },
  {
   "cell_type": "code",
   "execution_count": 10,
   "metadata": {
    "scrolled": false
   },
   "outputs": [
    {
     "name": "stdout",
     "output_type": "stream",
     "text": [
      "Epoch 1: [==========================================================================================] 100.00%\n",
      "Epoch 2: [==========================================================================================] 100.00%\n",
      "Epoch 3: [==========================================================================================] 100.00%\n",
      "Epoch 4: [==========================================================================================] 100.00%\n",
      "Epoch 5: [==========================================================================================] 100.00%\n",
      "Epoch 6: [==========================================================================================] 100.00%\n",
      "Epoch 7: [==========================================================================================] 100.00%\n",
      "Epoch 8: [==========================================================================================] 100.00%\n",
      "Epoch 9: [==========================================================================================] 100.00%\n",
      "Epoch 10: [==========================================================================================] 100.00%\n",
      "Epoch 11: [==========================================================================================] 100.00%\n",
      "Epoch 12: [==========================================================================================] 100.00%\n",
      "Epoch 13: [==========================================================================================] 100.00%\n",
      "Epoch 14: [==========================================================================================] 100.00%\n",
      "Epoch 15: [==========================================================================================] 100.00%\n",
      "Epoch 16: [==========================================================================================] 100.00%\n",
      "Epoch 17: [==========================================================================================] 100.00%\n",
      "Epoch 18: [==========================================================================================] 100.00%\n",
      "Epoch 19: [==========================================================================================] 100.00%\n",
      "Epoch 20: [==========================================================================================] 100.00%\n",
      "\n",
      "Dimensions of input: 655\n",
      "Dimensions of target: 10\n",
      "Rank: 20\n",
      "Number of factor matrices: 3\n",
      "Number of epochs: 20\n",
      "Number of weights: 26400\n",
      "Accuracy over training dataset: 93.308 %\n",
      "Accuracy over validation dataset: 88.98 %\n",
      "\n"
     ]
    },
    {
     "data": {
      "image/png": "[encoded data removed]",
      "text/plain": [
       "<Figure size 720x288 with 1 Axes>"
      ]
     },
     "metadata": {
      "needs_background": "light"
     },
     "output_type": "display_data"
    },
    {
     "data": {
      "image/png": "[encoded data removed]",
      "text/plain": [
       "<Figure size 720x288 with 1 Axes>"
      ]
     },
     "metadata": {
      "needs_background": "light"
     },
     "output_type": "display_data"
    },
    {
     "name": "stdout",
     "output_type": "stream",
     "text": [
      "R = 20 batch = 1\n",
      "Dataset accuracy( 1 ) = 90.533 %\n",
      "===============================================\n",
      "\n"
     ]
    }
   ],
   "source": [
    "# TRAINING\n",
    "\n",
    "# Number of factor matrices (order of the tensors)\n",
    "L = 3\n",
    "# Rank\n",
    "R = 20\n",
    "# Learning rate parameter\n",
    "alpha = 0.01\n",
    "# Learning decay parameter\n",
    "alpha_decay = 0.9\n",
    "# Regularization parameter\n",
    "Lambda = 0.001\n",
    "# Number of epochs\n",
    "epochs = 20\n",
    "# Batch size\n",
    "batch = 1\n",
    "\n",
    "# Initialize weights\n",
    "m = int(max(Y)) + 1\n",
    "n = X_bias.shape[1]\n",
    "W = tl.init_W(m, L, n, R)\n",
    "\n",
    "# Train model\n",
    "W, accuracy, accuracy_val, cost_function, success = tl.cpd_train(X_bias, Y, X_val, Y_val, W, \n",
    "                                                                 alpha=alpha, alpha_decay=alpha_decay, \n",
    "                                                                 Lambda=Lambda, \n",
    "                                                                 epochs=epochs, batch=batch, \n",
    "                                                                 display=True)\n",
    "\n",
    "accuracy_dataset = tl.cpd_test(X, Y, W, U, mu=mu, sigma=sigma)\n",
    "print('Accuracy over all dataset =', np.round(accuracy_dataset, 3), '%')\n",
    "print('===============================================')\n",
    "print()"
   ]
  },
  {
   "cell_type": "code",
   "execution_count": 11,
   "metadata": {},
   "outputs": [
    {
     "name": "stdout",
     "output_type": "stream",
     "text": [
      "R = 20 batch = 1\n",
      "Dataset accuracy( 1 ) = 88.8 %\n",
      "===============================================\n",
      "\n"
     ]
    }
   ],
   "source": [
    "# Accuracy over test dataset.\n",
    "accuracy_dataset = tl.cpd_test(X_test, Y_test, W, U, mu=mu, sigma=sigma)\n",
    "print('Accuracy over test dataset =', np.round(accuracy_dataset, 3), '%')\n",
    "print('===============================================')\n",
    "print()"
   ]
  }
 ],
 "metadata": {
  "kernelspec": {
   "display_name": "Python 3",
   "language": "python",
   "name": "python3"
  },
  "language_info": {
   "codemirror_mode": {
    "name": "ipython",
    "version": 3
   },
   "file_extension": ".py",
   "mimetype": "text/x-python",
   "name": "python",
   "nbconvert_exporter": "python",
   "pygments_lexer": "ipython3",
   "version": "3.7.3"
  }
 },
 "nbformat": 4,
 "nbformat_minor": 2
}
