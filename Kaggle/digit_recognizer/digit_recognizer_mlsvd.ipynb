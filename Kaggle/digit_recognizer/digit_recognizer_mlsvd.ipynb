{
 "cells": [
  {
   "cell_type": "markdown",
   "metadata": {},
   "source": [
    "# Handwritten Classification with Tensor Learning\n",
    "\n",
    "In this notebook we will see how to use tensor techniques to solve a classic machine learning problem: the handwritten classification problem. The module *Tensor Fox* is a tensor library I did for my Phd thesis, you can learn more about it [here](https://github.com/felipebottega/TensorFox). For more information about the techniques used here I recommend the article *Handwritten digit classification using higher order singular value decomposition*, from B. Savas and L. Eldén.\n",
    "\n",
    "We are given a train dataset consituted of $42000$ images of size $28 \\times 28$, which is then transformed in a tensor $28 \\times 28 \\times 42000$ such that each slice is a $28 \\times 28$ image of one of the digits $d = 0, 1, \\ldots, 9$. We have a total of $42000$ samples to work with. We also are given the labels of each image. Let's begin importing the relevant modules and creating the relevant arrays."
   ]
  },
  {
   "cell_type": "code",
   "execution_count": 1,
   "metadata": {},
   "outputs": [],
   "source": [
    "# Add path to Tensor Fox and load the module.\n",
    "\n",
    "# import sys\n",
    "import sys\n",
    "\n",
    "# read path \n",
    "path_tfx = '/home/felipe/PycharmProjects/tensorfox/'\n",
    "\n",
    "# import module from the path given\n",
    "sys.path.append(path_tfx)\n",
    "import TensorLearning as tl\n",
    "import TensorFox as tfx"
   ]
  },
  {
   "cell_type": "code",
   "execution_count": 2,
   "metadata": {},
   "outputs": [],
   "source": [
    "import numpy as np\n",
    "import pandas as pd\n",
    "import matplotlib.pyplot as plt\n",
    "import TensorLearning as tl\n",
    "import TensorFox as tfx"
   ]
  },
  {
   "cell_type": "code",
   "execution_count": 3,
   "metadata": {},
   "outputs": [],
   "source": [
    "# PREPROCESSING\n",
    "\n",
    "# Train dataset.\n",
    "data = pd.read_csv('train.csv')\n",
    "data_array = data.values\n",
    "\n",
    "num_samples, n = data_array.shape[0], data_array.shape[1] - 1\n",
    "\n",
    "X = np.zeros((num_samples, n))\n",
    "Y = np.zeros(num_samples)\n",
    "\n",
    "for i in range(num_samples):\n",
    "    X[i, :] = data_array[i, 1:]\n",
    "    Y[i] = data_array[i, 0]\n",
    "    \n",
    "Y = np.array(Y, dtype=np.int64)\n",
    "\n",
    "# Test dataset.\n",
    "data = pd.read_csv('test.csv')\n",
    "X_test = data.values\n",
    "\n",
    "# Normalize data.\n",
    "X, mu, sigma = tl.normalization(X, method='mean_normalization')"
   ]
  },
  {
   "cell_type": "markdown",
   "metadata": {},
   "source": [
    "# Creating a tensor from the data\n",
    "\n",
    "Let $X \\in \\mathbb{R}^{N \\times n}$ be the train data, where each row of $X$ is a single input data. We have a total of $N$ inputs of dimension $n$. If there are a total of $p$ classes in the data, the function *data2tens* creates a tensor $T \\in \\mathbb{R}^{m \\times n \\times p}$, where $m$ in the number of inputs in each class. In the case the number of inputs per class disagree, the function can add repeated inputs in a class to match the other, so it is possible to have $m p > N$."
   ]
  },
  {
   "cell_type": "code",
   "execution_count": 4,
   "metadata": {},
   "outputs": [
    {
     "name": "stdout",
     "output_type": "stream",
     "text": [
      "Inputs of class 0 = 4132\n",
      "Inputs of class 1 = 4684\n",
      "Inputs of class 2 = 4177\n",
      "Inputs of class 3 = 4351\n",
      "Inputs of class 4 = 4072\n",
      "Inputs of class 5 = 3795\n",
      "Inputs of class 6 = 4137\n",
      "Inputs of class 7 = 4401\n",
      "Inputs of class 8 = 4063\n",
      "Inputs of class 9 = 4188\n",
      "\n",
      "After fixing number of inputs per class:\n",
      "Inputs of class 0 = 4684\n",
      "Inputs of class 1 = 4684\n",
      "Inputs of class 2 = 4684\n",
      "Inputs of class 3 = 4684\n",
      "Inputs of class 4 = 4684\n",
      "Inputs of class 5 = 4684\n",
      "Inputs of class 6 = 4684\n",
      "Inputs of class 7 = 4684\n",
      "Inputs of class 8 = 4684\n",
      "Inputs of class 9 = 4684\n",
      "\n",
      "T.shape = (4684, 784, 10)\n",
      "\n"
     ]
    },
    {
     "data": {
      "image/png": "[encoded data removed]",
      "text/plain": [
       "<Figure size 720x720 with 16 Axes>"
      ]
     },
     "metadata": {},
     "output_type": "display_data"
    }
   ],
   "source": [
    "# TRANSFORM DATA INTO TENSOR\n",
    "\n",
    "# If display is True, the program shows the number of inputs per class before and after the run.\n",
    "# After the function all classes have the same number of inputs, and the inputs of each class are\n",
    "# joined together to form a slice of T. In this case all classes have same number of inputs.\n",
    "T = tl.data2tens(X, Y, display=True)\n",
    "print()\n",
    "print('T.shape =', T.shape)\n",
    "print()\n",
    "\n",
    "# Below we plot some slices to visualize what kind of images we are dealing with.\n",
    "num_rows = 4\n",
    "num_cols = 4    \n",
    "fig, ax = plt.subplots(num_rows, num_cols, figsize=(10, 10), sharex='col', sharey='row')     \n",
    "for i in range(num_rows):\n",
    "    for j in range(num_cols):\n",
    "        element = np.random.randint(0, 20)\n",
    "        element_class = np.random.randint(0,10)\n",
    "        ax[i, j].xaxis.set_major_locator(plt.NullLocator())\n",
    "        ax[i, j].yaxis.set_major_locator(plt.NullLocator())\n",
    "        ax[i, j].title.set_text('Digit ' + str(element_class))\n",
    "        ax[i, j].imshow(-T[element, :, element_class].reshape(28, 28), cmap='gray')"
   ]
  },
  {
   "cell_type": "markdown",
   "metadata": {},
   "source": [
    "# MLSVD (Multilinear Singular Value Decomposition)\n",
    "\n",
    "For any tensor $T \\in \\mathbb{R}^{m \\times n \\times p}$, there are orthogonal matrices $U_1 \\in \\mathbb{R}^{m \\times m}, U_2 \\in \\mathbb{R}^{n \\times n}, U_3 \\in \\mathbb{R}^{p \\times p}$ and a tensor $S \\in \\mathbb{R}^{m \\times n \\times p}$ such that\n",
    "\n",
    "$$ T = (U_1, U_2, U_3) \\cdot S.$$\n",
    "\n",
    "$(U_1, U_2, U_3) \\cdot S$ is the multilinear multiplication between $U_1, U_2, U_3$ and $S$. A nice feature of this decomposition is that the *energy* of $S$ is concentrated around the first coordinate, i.e., around $S[0,0,0]$. This concentration make it possible to truncate $S$ and still have a reasonable approximation, similarly when one truncate the SVD of a matrix. \n",
    "\n",
    "When a truncation occurs, we work with the tensor $(U_1[:, :R_1], U_2[:, :R_2], U_3[:, ;R_3]) \\cdot S[:R_1, :R_2, :R_3]$. We will still use the notation $U_1, U_2, U_3, S$ for the truncation versions of these arrays.\n",
    "\n",
    "Now consider the $R1 \\times R_2 \\times R_3$ tensor $F = (I_{R_1}, I_{R_2}, U_3)\\cdot S \\approx (U_1^T, U_2^T, I_{R_3})\\cdot T$. We will consider $F$ as the compressed version of $T$. For each new image digit $z \\in \\mathbb{R}^n$ (remember that $n = 400$), convert it to the $R_2$ dimensional space using the transformation $z_{new} = U_2^T \\cdot z$, where $U_2 \\in \\mathbb{R}^{n \\times R_2}$. In this space we compare it to the space generated by the columns of each slice of $F$ (remember that each slice correspond to a class). The best match will be the new class. This stage of comparing is not made using the slice directly, but instead we compute the SVD of the slice and truncate it. The procedure is summarized below.\n",
    "\n",
    "> 1) New input: $z \\in \\mathbb{R}^n$\n",
    "   \n",
    "> 2) Transform input: $z_{new} = U_2^T \\cdot z \\in \\mathbb{R}^{R_2}$\n",
    "\n",
    "> 3) Compute SVD of slices: $F[:,:,d] = \\mathcal{U}_d \\Sigma_d \\mathcal{V}_d^T$ for $d = 0, \\ldots 9$ \n",
    "\n",
    "> 4) Truncate $\\mathcal{V}_d$ to have $trunc < R_1$ rows: $\\tilde{\\mathcal{V}}_d = \\mathcal{V}_d[:trunc, :]$ \n",
    "\n",
    "> 5) Solve least squares problems: $\\min_x \\| \\tilde{\\mathcal{V}}_d \\cdot x - z_{new} \\|$ for $d = 0, \\ldots, 9$\n",
    "\n",
    "> 6) The class $d$ associated with the smallest norm is chosen to be the class of $z$\n",
    "\n",
    "Note that, since the columns of $\\tilde{\\mathcal{V}}_d$ are orthonormal, the solution of the least squares problem is given by\n",
    "\n",
    "$$x^\\ast = \\tilde{\\mathcal{V}}_d^T \\cdot z_{new}.$$"
   ]
  },
  {
   "cell_type": "code",
   "execution_count": 5,
   "metadata": {},
   "outputs": [
    {
     "name": "stdout",
     "output_type": "stream",
     "text": [
      "Training model...\n",
      "Shape of MLSVD: (200, 200, 10)\n",
      "Error: 0.3896663378466835\n",
      "Working with 1.0892 % of the original size\n",
      "\n",
      "F.shape = (200, 200, 10)\n",
      "U2.shape = (784, 200)\n",
      "success = True\n"
     ]
    }
   ],
   "source": [
    "# TRAINING\n",
    "\n",
    "# The MLSVD function needs a estimate of the rank of T. We can test several ranks and see how are their\n",
    "# corresponding predictions. Below we show how the model performs for R=200.\n",
    "\n",
    "R = 200\n",
    "class options:\n",
    "    display = 3\n",
    "F, U2, success = tl.mlsvd_train(T, R, options)\n",
    "print('F.shape =', F.shape)\n",
    "print('U2.shape =', U2.shape)\n",
    "print('success =', success)"
   ]
  },
  {
   "cell_type": "code",
   "execution_count": 6,
   "metadata": {},
   "outputs": [
    {
     "name": "stdout",
     "output_type": "stream",
     "text": [
      "(4684, 4684) (784, 600) (10, 10)\n",
      "(4684, 150, 10)\n",
      "Truncation: [4684, 150, 10]\n",
      "Error: 0.19153373991415487\n",
      "\n",
      "(4684, 200, 10)\n",
      "Truncation: [4684, 200, 10]\n",
      "Error: 0.1543098663582336\n",
      "\n",
      "(4684, 250, 10)\n",
      "Truncation: [4684, 250, 10]\n",
      "Error: 0.12464836711728389\n",
      "\n",
      "(4684, 300, 10)\n",
      "Truncation: [4684, 300, 10]\n",
      "Error: 0.09885877374923921\n",
      "\n",
      "(4684, 350, 10)\n",
      "Truncation: [4684, 350, 10]\n",
      "Error: 0.07557371966853717\n",
      "\n",
      "(4684, 400, 10)\n",
      "Truncation: [4684, 400, 10]\n",
      "Error: 0.05444760833009044\n",
      "\n",
      "(4684, 450, 10)\n",
      "Truncation: [4684, 450, 10]\n",
      "Error: 0.03675126523934545\n",
      "\n",
      "(4684, 500, 10)\n",
      "Truncation: [4684, 500, 10]\n",
      "Error: 0.02301813761342565\n",
      "\n",
      "(4684, 550, 10)\n",
      "Truncation: [4684, 550, 10]\n",
      "Error: 0.012725715153824166\n",
      "\n",
      "(4684, 600, 10)\n",
      "Truncation: [4684, 600, 10]\n",
      "Error: 0.005901048457799678\n",
      "\n"
     ]
    }
   ],
   "source": [
    "# Other alternative is to choose the truncation (shape of the MLSVD above) manually. \n",
    "# R1 (number of inputs) and R3 (number of classes) we keep fixed, only changing R2 (size of inputs).\n",
    "\n",
    "trunc_dims_list = [[4684, R2, 10] for R2 in np.arange(150, 601, 50)]\n",
    "trunc_error = tfx.cmpr.test_truncation(T, trunc_dims_list)"
   ]
  },
  {
   "cell_type": "code",
   "execution_count": 6,
   "metadata": {},
   "outputs": [
    {
     "name": "stdout",
     "output_type": "stream",
     "text": [
      "Training model...\n",
      "Shape of MLSVD: (4684, 350, 10)\n",
      "Error: 0.07567572217166206\n",
      "Working with 44.6429 % of the original size\n",
      "\n",
      "F.shape = (4684, 350, 10)\n",
      "U2.shape = (784, 350)\n",
      "success = True\n"
     ]
    }
   ],
   "source": [
    "# From above we can see that R2 = 350 seems to be a good choice. Since we don't want to change the first \n",
    "# coordinate, we must set R = 4684 (remember that the central tensor of the MLSVD has shape (R1, R2, R3), \n",
    "# where that R1 <= min(4684, R), so we can't make R less than the number of inputs). \n",
    "\n",
    "R = 4684\n",
    "R2 = 350\n",
    "\n",
    "class options:\n",
    "    display = 3\n",
    "    trunc_dims = [4684, R2, 10]\n",
    "    \n",
    "F, U2, success = tl.mlsvd_train(T, R, options)\n",
    "\n",
    "print('F.shape =', F.shape)\n",
    "print('U2.shape =', U2.shape)\n",
    "print('success =', success)"
   ]
  },
  {
   "cell_type": "code",
   "execution_count": 7,
   "metadata": {},
   "outputs": [
    {
     "name": "stdout",
     "output_type": "stream",
     "text": [
      "Computing predictions...\n",
      "Finished\n",
      "Computing predictions...\n",
      "Finished\n",
      "Computing predictions...\n",
      "Finished\n",
      "Computing predictions...\n",
      "Finished\n",
      "Computing predictions...\n",
      "Finished\n",
      "Computing predictions...\n",
      "Finished\n",
      "Computing predictions...\n",
      "Finished\n",
      "Computing predictions...\n",
      "Finished\n",
      "Computing predictions...\n",
      "Finished\n",
      "Computing predictions...\n",
      "Finished\n",
      "Computing predictions...\n",
      "Finished\n",
      "Computing predictions...\n",
      "Finished\n",
      "Computing predictions...\n",
      "Finished\n",
      "Computing predictions...\n",
      "Finished\n",
      "Computing predictions...\n",
      "Finished\n",
      "Computing predictions...\n",
      "Finished\n",
      "Computing predictions...\n",
      "Finished\n",
      "Computing predictions...\n",
      "Finished\n",
      "Computing predictions...\n",
      "Finished\n",
      "Computing predictions...\n",
      "Finished\n"
     ]
    },
    {
     "data": {
      "image/png": "[encoded data removed]",
      "text/plain": [
       "<Figure size 432x288 with 1 Axes>"
      ]
     },
     "metadata": {
      "needs_background": "light"
     },
     "output_type": "display_data"
    },
    {
     "name": "stdout",
     "output_type": "stream",
     "text": [
      "p = 0.3838947368421053\n",
      "accuracy = 95.82142857142857 %\n"
     ]
    }
   ],
   "source": [
    "# TESTING\n",
    "\n",
    "# After the model is trained, we start the step 4 described previously. The truncation of each Vd depends on\n",
    "# the choice of energy we want to use. In short, the parameter p is a values between 0 and 1, where 0 means 0% \n",
    "# of the energy is retained and 1 means 100% of the energy is retained. See the function 'mlsvd_test' for more\n",
    "# details.\n",
    "\n",
    "values = np.linspace(0.1, 0.999, 20)\n",
    "accuracies = np.zeros((len(values), 2))\n",
    "\n",
    "i = 0\n",
    "for p in values:\n",
    "    accuracy = tl.mlsvd_test(X, Y, F, U2, p)\n",
    "    accuracies[i, 0] = p\n",
    "    accuracies[i, 1] = accuracy\n",
    "    i += 1\n",
    "    \n",
    "plt.plot(values, accuracies[:, 1])\n",
    "plt.grid()\n",
    "plt.xlabel('p')\n",
    "plt.ylabel('accuracy')\n",
    "plt.show()\n",
    "\n",
    "# Display the value p for which max accuracy is attained.\n",
    "idx = np.argmax(accuracies[:, 1])\n",
    "print('p =', accuracies[idx, 0])\n",
    "print('accuracy =', accuracies[idx, 1], '%')"
   ]
  },
  {
   "cell_type": "code",
   "execution_count": 8,
   "metadata": {},
   "outputs": [
    {
     "name": "stdout",
     "output_type": "stream",
     "text": [
      "Computing predictions...\n",
      "Finished\n",
      "   ImageId  Label\n",
      "0        1      2\n",
      "1        2      0\n",
      "2        3      9\n",
      "3        4      9\n",
      "4        5      3\n"
     ]
    }
   ],
   "source": [
    "# Make predictions and save them in a csv file.\n",
    "p = 0.3838947368421053\n",
    "predictions = tl.mlsvd_predictions(X_test, F, U2, p, mu=mu, sigma=sigma)\n",
    "submission = pd.read_csv('sample_submission.csv')\n",
    "submission[\"Label\"] = predictions\n",
    "submission.to_csv('mlsvd_submission.csv', index=False)\n",
    "print(submission.head())"
   ]
  },
  {
   "cell_type": "markdown",
   "metadata": {},
   "source": [
    "With this approach we could achieve a score of $0.957$ ($95.7 \\%$ of accuracy) in the Kaggle's competition [digit recognizer](https://www.kaggle.com/c/digit-recognizer)."
   ]
  }
 ],
 "metadata": {
  "kernelspec": {
   "display_name": "Python 3",
   "language": "python",
   "name": "python3"
  },
  "language_info": {
   "codemirror_mode": {
    "name": "ipython",
    "version": 3
   },
   "file_extension": ".py",
   "mimetype": "text/x-python",
   "name": "python",
   "nbconvert_exporter": "python",
   "pygments_lexer": "ipython3",
   "version": "3.7.3"
  }
 },
 "nbformat": 4,
 "nbformat_minor": 2
}
